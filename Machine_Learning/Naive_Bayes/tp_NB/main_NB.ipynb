{
 "cells": [
  {
   "cell_type": "markdown",
   "metadata": {},
   "source": [
    "# Naive Bayes (Optional)\n",
    "In this TP you are going to build the Naive Bayes classifier using both continious data (assuming that they folllow normal distribution) and categorical data. In a future TP (it will be obligatory) you will use the Naive Bayes classifier that you build in this TP for continuous data without assuming that they follow the normal distribution.\n",
    "\n",
    "You are going to fill a few missing functions in the python scripts\n",
    "to implement the exercises that we ask.  So first of all read and understand the given python scripts.  To run your code you have to run the\n",
    " main\\_NB.ipynb notebook.  \n",
    "\n",
    "## Exersises\n",
    "\n",
    "- **Fill the missing functions in NaiveBayes() class in naive\\_bayes.py** to implement the the NB algorithm for continuous data and categorical data. It should work not only for continuous or categorical dataset but also for datasets with both continuous and categorical features.\n",
    "\n",
    "Use main\\_NB.ipynb in order to run the functions that you implement in NaiveBayes() class. You cannot modify the given functions.\n",
    "- Write a function named compute_accuracy(y_true, y_pred) in the utils.py script. The function takes as arguments the tru and the predicted class labels and returns the accuracy. Use only numpy\n",
    "\n",
    "\n",
    "\n",
    "- Once your implementation is ready perform Naive Bayes classification and compute the classification accuracy for the following datasets:\n",
    "\n",
    "**Continuous datasets:**\n",
    "- Iris dataset (https://scikit-learn.org/stable/datasets/toy_dataset.html#iris-plants-dataset)\n",
    "- Breast cancer dataset (https://scikit-learn.org/stable/datasets/toy_dataset.html#breast-cancer-wisconsin-diagnostic-dataset)\n",
    "\n",
    "- For the iris dataset **draw the decision surfaces** (code is given).  For the visualization purposes we chose two attributes as predictive attributes and color the plane defined by these two attributes on the basis of class labels that Naive Bayes predicts.  Draw the decision surfaces for **3 different combinations of attributes (1st-2nd),  (1st-3rd) and (1st-3rd)**.  Comment/ discuss the result.\n",
    "\n",
    "**Categorical dataset:**\n",
    "\n",
    "- handwritten digits dataset (https://scikit-learn.org/stable/datasets/toy_dataset.html#optical-recognition-of-handwritten-digits-dataset)\n",
    "\n",
    "\n",
    "\n",
    "**datasert with both continuous and categorical features: **\n",
    "\n",
    "-  Forest covertypes dataset (https://scikit-learn.org/stable/datasets/real_world.html#forest-covertypes)\n",
    "\n",
    "\n",
    "\n",
    "\t\n",
    "\n",
    "\n",
    "\n",
    "## General instruction\n",
    "\n",
    "The code should be well written with detailed comments to explain what you do at each step.  Avoid the for loops and if statements using the nymPy library. Your code should be generic and you should use the given functions. For example the code for the \\textit{ iris data} should be applicable, to  the \\textit{Digits data} without any modification."
   ]
  },
  {
   "cell_type": "code",
   "execution_count": 2,
   "metadata": {},
   "outputs": [],
   "source": [
    "from __future__ import print_function\n",
    "import random\n",
    "import numpy as np\n",
    "import csv\n",
    "from sklearn import datasets\n",
    "from sklearn.utils import shuffle\n",
    "\n",
    "from utils import plot_decision_boundary, train_test_split, compute_accuracy\n",
    "\n",
    "\n",
    "import matplotlib.pyplot as plt\n",
    "# make figures appear inline\n",
    "%matplotlib inline\n",
    "\n",
    "\n",
    "# for auto-reloading external modules\n",
    "# see http://stackoverflow.com/questions/1907993/autoreload-of-modules-in-ipython\n",
    "%load_ext autoreload\n",
    "%autoreload 2\n"
   ]
  },
  {
   "cell_type": "markdown",
   "metadata": {},
   "source": [
    "## Continious data, assuming normal distribution"
   ]
  },
  {
   "cell_type": "code",
   "execution_count": 3,
   "metadata": {},
   "outputs": [
    {
     "name": "stdout",
     "output_type": "stream",
     "text": [
      "Training data shape:  (100, 4)\n",
      "Training labels shape:  (100,)\n",
      "Test data shape:  (50, 4)\n",
      "Test labels shape:  (50,)\n"
     ]
    }
   ],
   "source": [
    "# Loas the iris data set\n",
    "from utils import load_IRIS\n",
    "X_train, y_train, X_test, y_test = load_IRIS(test=True)\n",
    "\n",
    "# print out the size of the training and test data.\n",
    "print('Training data shape: ', X_train.shape)\n",
    "print('Training labels shape: ', y_train.shape)\n",
    "print('Test data shape: ', X_test.shape)\n",
    "print('Test labels shape: ', y_test.shape)"
   ]
  },
  {
   "cell_type": "markdown",
   "metadata": {},
   "source": [
    "## Import the NaiveBayes classifier and start filling the missing parts in order to train your classifier using continuous data (assuming that they follow Normal distribution)\n"
   ]
  },
  {
   "cell_type": "code",
   "execution_count": 4,
   "metadata": {},
   "outputs": [
    {
     "name": "stderr",
     "output_type": "stream",
     "text": [
      "C:\\Users\\Andi\\Documents\\Stats\\ML\\TP02_NB\\tp_NB\\naive_bayes.py:67: SyntaxWarning: \"is\" with a literal. Did you mean \"==\"?\n",
      "  if self.continuous_features is 'all':\n"
     ]
    }
   ],
   "source": [
    "#import naive_bayes\n",
    "from naive_bayes import NaiveBayes"
   ]
  },
  {
   "cell_type": "code",
   "execution_count": 5,
   "metadata": {},
   "outputs": [],
   "source": [
    "nb_clf = NaiveBayes(continuous_features='all')\n"
   ]
  },
  {
   "cell_type": "markdown",
   "metadata": {},
   "source": [
    "### Fill the <font color='blue'>_calculate_prior()</font> function in naive_bays.py script"
   ]
  },
  {
   "cell_type": "code",
   "execution_count": 6,
   "metadata": {},
   "outputs": [
    {
     "data": {
      "text/plain": [
       "array([0.34, 0.35, 0.31])"
      ]
     },
     "execution_count": 6,
     "metadata": {},
     "output_type": "execute_result"
    }
   ],
   "source": [
    "nb_clf._calculate_prior(y_train)\n",
    "# array([0.34, 0.35, 0.31])"
   ]
  },
  {
   "cell_type": "markdown",
   "metadata": {},
   "source": [
    "## Fill the <font color='blue'>_calculate_gaussian()</font> function\n",
    "**use numpy**"
   ]
  },
  {
   "cell_type": "code",
   "execution_count": 8,
   "metadata": {},
   "outputs": [
    {
     "data": {
      "text/plain": [
       "0.3520647254385327"
      ]
     },
     "execution_count": 8,
     "metadata": {},
     "output_type": "execute_result"
    }
   ],
   "source": [
    "nb_clf._calculate_gaussian(x = 0.5, mean = 0, var = 1)\n",
    "# 0.3520647254385327\n"
   ]
  },
  {
   "cell_type": "markdown",
   "metadata": {},
   "source": [
    "## Fill the <font color='blue'>train()</font> function"
   ]
  },
  {
   "cell_type": "code",
   "execution_count": 9,
   "metadata": {},
   "outputs": [
    {
     "name": "stdout",
     "output_type": "stream",
     "text": [
      "[]\n",
      "[0 1 2 3]\n",
      "(3,)\n",
      "[0.34 0.35 0.31]\n",
      "[[5.04705882 3.47058824 1.47352941 0.25294118]\n",
      " [5.94       2.80857143 4.3        1.35142857]\n",
      " [6.67419355 3.         5.59354839 2.0483871 ]]\n",
      "(3, 4)\n",
      "<class 'numpy.ndarray'>\n",
      "[[0.11131488 0.15737024 0.03194637 0.01013841]\n",
      " [0.22411429 0.0813551  0.24914286 0.04306939]\n",
      " [0.36514048 0.11032258 0.30640999 0.07798127]]\n",
      "(3, 4)\n",
      "(3, 4)\n",
      "(100, 3, 4)\n",
      "(4,)\n",
      "(100, 4)\n"
     ]
    }
   ],
   "source": [
    "classes = np.unique(y_train)\n",
    "\n",
    "nb_clf.train(X_train, y_train)\n",
    "\n",
    "categorical_features = nb_clf.categorical_features\n",
    "print(categorical_features)\n",
    "# []\n",
    "\n",
    "continuous_features = nb_clf.continuous_features\n",
    "print(continuous_features)\n",
    "# [0 1 2 3]\n",
    "\n",
    "\n",
    "priors = nb_clf.priors\n",
    "print(priors.shape)\n",
    "# (3,)\n",
    "\n",
    "\n",
    "\n",
    "print(priors)\n",
    "# [0.34 0.35 0.31]\n",
    "\n",
    "cond_mean = nb_clf.mean\n",
    "print(cond_mean)\n",
    "# [[5.04705882 3.47058824 1.47352941 0.25294118]\n",
    "# [5.94       2.80857143 4.3        1.35142857]\n",
    "# [6.67419355 3.         5.59354839 2.0483871 ]]\n",
    "\n",
    "print(cond_mean.shape)\n",
    "# (3, 4)\n",
    "\n",
    "print(type(cond_mean))\n",
    "# <class 'numpy.ndarray'>\n",
    "\n",
    "\n",
    "print(nb_clf.var)\n",
    "# [[0.11131488 0.15737024 0.03194637 0.01013841]\n",
    "# [0.22411429 0.0813551  0.24914286 0.04306939]\n",
    "# [0.36514048 0.11032258 0.30640999 0.07798127]]\n",
    "\n",
    "print(nb_clf.var.shape)\n",
    "# (3, 4)\n",
    "\n",
    "print(nb_clf._calculate_gaussian(nb_clf.mean, nb_clf.var, X_train[0]).shape)\n",
    "# (3, 4)\n",
    "\n",
    "print(nb_clf._calculate_gaussian(nb_clf.mean, nb_clf.var, X_train[:, np.newaxis]).shape)\n",
    "# (100, 3, 4)\n",
    "\n",
    "print(nb_clf._calculate_gaussian(nb_clf.mean[classes[0]],nb_clf.var[classes[0]], X_train[1]).shape)\n",
    "# (4,)\n",
    "\n",
    "print(nb_clf._calculate_gaussian(nb_clf.mean[classes[0]],nb_clf.var[classes[0]], X_train).shape)\n",
    "#(100, 4)\n"
   ]
  },
  {
   "cell_type": "markdown",
   "metadata": {},
   "source": [
    "## Fill the <font color='blue'>_calculate_posteriors()</font> function when continuous_features.size != 0"
   ]
  },
  {
   "cell_type": "code",
   "execution_count": 10,
   "metadata": {},
   "outputs": [
    {
     "name": "stdout",
     "output_type": "stream",
     "text": [
      "(10, 3)\n"
     ]
    }
   ],
   "source": [
    "posteriors = nb_clf._calculate_posteriors(X_train[0:10])\n",
    "print(posteriors.shape)\n",
    "\n",
    "# (10, 3)\n"
   ]
  },
  {
   "cell_type": "markdown",
   "metadata": {},
   "source": [
    "## Fill the <font color='blue'>predict()</font> function "
   ]
  },
  {
   "cell_type": "code",
   "execution_count": 11,
   "metadata": {},
   "outputs": [
    {
     "name": "stdout",
     "output_type": "stream",
     "text": [
      "0.96\n"
     ]
    }
   ],
   "source": [
    "nb_clf.predict(X_train[0:10])\n",
    "test_acc = compute_accuracy(y_test, nb_clf.predict(X_test))\n",
    "print(test_acc)"
   ]
  },
  {
   "cell_type": "markdown",
   "metadata": {},
   "source": [
    "## Categorical data"
   ]
  },
  {
   "cell_type": "code",
   "execution_count": 12,
   "metadata": {},
   "outputs": [
    {
     "name": "stdout",
     "output_type": "stream",
     "text": [
      "Clear previously loaded data.\n"
     ]
    }
   ],
   "source": [
    "# Cleaning up variables to prevent loading data multiple times (which may cause memory issues)\n",
    "try:\n",
    "   del X_train, y_train\n",
    "   del X_test, y_test\n",
    "   print('Clear previously loaded data.')\n",
    "except:\n",
    "   pass"
   ]
  },
  {
   "cell_type": "code",
   "execution_count": 13,
   "metadata": {},
   "outputs": [],
   "source": [
    "from sklearn.datasets import load_iris, load_digits, load_wine, load_breast_cancer"
   ]
  },
  {
   "cell_type": "markdown",
   "metadata": {},
   "source": [
    "## Import the NaiveBayes classifier for catagorical data and start filling the missing parts in order to train your classifier using discrete data \n"
   ]
  },
  {
   "cell_type": "code",
   "execution_count": 14,
   "metadata": {},
   "outputs": [],
   "source": [
    "# toy data\n",
    "X_train =  [[0, 0],\n",
    "         [1, 1],\n",
    "         [1, 0],\n",
    "         [0, 1],\n",
    "         [1, 1],\n",
    "         [2, 1],\n",
    "         [0, 2],\n",
    "         [2, 2],\n",
    "         [1, 1],\n",
    "         [0, 2]]\n",
    "y_train = [0, 0, 1, 0, 0, 0, 1, 1, 0, 0]\n",
    "X_train, y_train = np.array(X_train), np.array(y_train)\n",
    "\n",
    "# P(y=0) = 7/10 et P(y=1) = 3/10 (la somme des deux = 1)\n",
    "# P(x1=0 | y=0).....P(x2=0 | y = 0)......\n",
    "# exemple : P(x1=0 | y=0) le nombre de fois ou la valeur x1 vaut 0 et que celle de y vaut aussi 0 pour la même ligne :\n",
    "# résultat = 3/7...il est ensuite possible de remplir tout un tableau de toutes les probas (cf photo)\n",
    "\n",
    "#P(Y=0 | x1=0, x2=0) = P(y=0) * P(x1=0|y=0)* P(x2=0|y=0) = 7/10 * 3/7 * 1/7 = 3/70 (proba le plus elevé)\n",
    "#P(y=1 | x1=0, x2=0) = P(y=1) * P(x1=0|y=0)* P(x2=0|y=0) = 3/10 * 1/3 * 1/3 = 1/30\n"
   ]
  },
  {
   "cell_type": "code",
   "execution_count": 15,
   "metadata": {},
   "outputs": [
    {
     "data": {
      "text/plain": [
       "array([0.7, 0.3])"
      ]
     },
     "execution_count": 15,
     "metadata": {},
     "output_type": "execute_result"
    }
   ],
   "source": [
    "clf_nbcat = NaiveBayes(continuous_features = None)\n",
    "\n",
    "clf_nbcat._calculate_prior(y_train)\n",
    "\n",
    "# array([0.7, 0.3])"
   ]
  },
  {
   "cell_type": "markdown",
   "metadata": {},
   "source": [
    "## Fill the <font color='blue'>_calculate_frequencies()</font>  and the rest of the <font color='blue'>train()</font> functions\n"
   ]
  },
  {
   "cell_type": "code",
   "execution_count": 16,
   "metadata": {},
   "outputs": [
    {
     "data": {
      "text/plain": [
       "<naive_bayes.NaiveBayes at 0x1783d436260>"
      ]
     },
     "execution_count": 16,
     "metadata": {},
     "output_type": "execute_result"
    }
   ],
   "source": [
    "clf_nbcat.train(X_train, y_train)"
   ]
  },
  {
   "cell_type": "code",
   "execution_count": 17,
   "metadata": {},
   "outputs": [
    {
     "name": "stdout",
     "output_type": "stream",
     "text": [
      "[0 1]\n",
      "[3 3]\n",
      "<class 'numpy.ndarray'>\n",
      "[]\n",
      "(2,)\n",
      "2\n",
      "(2, 3)\n"
     ]
    }
   ],
   "source": [
    "categorical_features = clf_nbcat.categorical_features\n",
    "print(categorical_features)\n",
    "# [0 1]\n",
    "\n",
    "num_categories_each_feature = clf_nbcat.num_categories_each_feature\n",
    "\n",
    "print(num_categories_each_feature)\n",
    "# [3 3]\n",
    "\n",
    "print(type(num_categories_each_feature))\n",
    "# numpy.ndarray\n",
    "\n",
    "continuous_features = clf_nbcat.continuous_features\n",
    "print(continuous_features)\n",
    "# []\n",
    "\n",
    "\n",
    "priors = clf_nbcat.priors\n",
    "print(priors.shape)\n",
    "# (2,)\n",
    "\n",
    "frequencies = clf_nbcat.frequencies\n",
    "\n",
    "print(len(frequencies))\n",
    "# 2\n",
    "\n",
    "print(frequencies[0].shape)\n",
    "# (2, 3)\n",
    "\n"
   ]
  },
  {
   "cell_type": "code",
   "execution_count": 18,
   "metadata": {},
   "outputs": [
    {
     "data": {
      "text/plain": [
       "numpy.ndarray"
      ]
     },
     "execution_count": 18,
     "metadata": {},
     "output_type": "execute_result"
    }
   ],
   "source": [
    "type(clf_nbcat.num_categories_each_feature)"
   ]
  },
  {
   "cell_type": "markdown",
   "metadata": {},
   "source": [
    "## ToDo: **As a sanity check for an attribute verify that** $\\sum_j (x_i = v_{ij} \\vert y = y_k) = 1$ \n",
    "\n",
    "\n"
   ]
  },
  {
   "cell_type": "markdown",
   "metadata": {},
   "source": [
    "Pour performer cette vérification, il suffir de choisir un attribut (par exemple : la première colonne) ainsi que toutes les valeurs possibles dans cette colonne afin de vérifier pour chaque classe (0 et 1) si la somme des occurences pour les valeurs séléctionnées en exemple sont égales à 1\n",
    "\n",
    "Pour mettre en place cette vérification, je met à disposition une fonction (calcul_probas) permettant de calculer les probabilités pour chaque valeur de la première colonne (index 0), sachant les deux possibles classes (0 et 1).\n",
    "\n",
    "Afin de vérifier si le total pour chaque classe correspond à 0, j'utilise une deuxième fonction (sanity_check) permettant de recevoir toutes les probabilités d'une classe et de calculer la somme (arrondie pour éviter les erreurs). Cette fonction retournera vrai si la somme vaut bien 1.\n"
   ]
  },
  {
   "cell_type": "code",
   "execution_count": 20,
   "metadata": {},
   "outputs": [
    {
     "name": "stdout",
     "output_type": "stream",
     "text": [
      "\n",
      "Probabilitées pour la classe 0: {0: 0.42857142857142855, 1: 0.42857142857142855, 2: 0.14285714285714285}\n",
      "Probabilitées pour la classe 0: True\n",
      "\n",
      "Probabilitées pour la classe 1: {0: 0.3333333333333333, 1: 0.3333333333333333, 2: 0.3333333333333333}\n",
      "Probabilitées pour la classe 1: True\n"
     ]
    }
   ],
   "source": [
    "def sanity_check(attribute_probs, yk):\n",
    "    sum_prob = 0\n",
    "    for vij, p in attribute_probs.items():\n",
    "        if p < 0 or p > 1:\n",
    "            return False\n",
    "        sum_prob += p\n",
    "    return round(sum_prob, 5) == 1  # Utilisation de round() pour éviter les erreurs d'approximations\n",
    "\n",
    "\n",
    "def calcul_probas(X_train, y_train, feature_index):\n",
    "    classes = np.unique(y_train)\n",
    "    values = np.unique(X_train[:, feature_index])\n",
    "    probabilities = {}\n",
    "\n",
    "    for y in classes:\n",
    "        y_indices = y_train == y\n",
    "        count_y = np.sum(y_indices)\n",
    "        count_x_given_y = {x: np.sum(X_train[y_indices, feature_index] == x) for x in values}\n",
    "        probabilities[y] = {x: count_x_given_y[x] / count_y for x in values}\n",
    "\n",
    "    return probabilities\n",
    "\n",
    "# Calcul des probabilités pour la première colonne (index = 0) et dont la valeur\n",
    "feature_index = 0\n",
    "probabilites = calcul_probas(X_train, y_train, feature_index)\n",
    "\n",
    "# Sanity check pour chacunes des classes possibles (dans notre exemple: 0 et 1)\n",
    "for classY, probs in probabilites.items():\n",
    "    sanity_check_result = sanity_check(probs, classY)\n",
    "    print(f\"\\nProbabilitées pour la classe {classY}: {probs}\")\n",
    "    print(f\"Probabilitées pour la classe {classY}: {sanity_check_result}\")"
   ]
  },
  {
   "cell_type": "markdown",
   "metadata": {},
   "source": [
    "## Fill the <font color='blue'>_calculate_posteriors()</font> function when continuous_features.size != 0\n",
    "\n"
   ]
  },
  {
   "cell_type": "code",
   "execution_count": 21,
   "metadata": {},
   "outputs": [
    {
     "name": "stdout",
     "output_type": "stream",
     "text": [
      "(10, 2)\n"
     ]
    }
   ],
   "source": [
    "posteriors = clf_nbcat._calculate_posteriors(X_train)\n",
    "print(posteriors.shape)\n",
    "# (10, 2)\n"
   ]
  },
  {
   "cell_type": "code",
   "execution_count": 22,
   "metadata": {},
   "outputs": [
    {
     "name": "stdout",
     "output_type": "stream",
     "text": [
      "(10,)\n"
     ]
    }
   ],
   "source": [
    "clf_nbcat.predict(X_train)\n",
    "print(clf_nbcat.predict(X_train).shape)\n",
    "# (10,)\n"
   ]
  },
  {
   "cell_type": "markdown",
   "metadata": {},
   "source": [
    "## Verify your implementation using continuous and categorical data"
   ]
  },
  {
   "cell_type": "code",
   "execution_count": 23,
   "metadata": {},
   "outputs": [],
   "source": [
    "# Cleaning up variables to prevent loading data multiple times (which may cause memory issues)\n",
    "try:\n",
    "   del X_train, y_train\n",
    "   del X_test, y_test\n",
    "   print('Clear previously loaded data.')\n",
    "except:\n",
    "   pass"
   ]
  },
  {
   "cell_type": "code",
   "execution_count": 24,
   "metadata": {},
   "outputs": [
    {
     "data": {
      "text/plain": [
       "array([0, 1, 1, 0, 0, 0, 0, 1, 0, 0, 1, 1, 0, 0])"
      ]
     },
     "execution_count": 24,
     "metadata": {},
     "output_type": "execute_result"
    }
   ],
   "source": [
    "\n",
    "X = [[0, 0, 180.1, 75],\n",
    "     [1, 1, 165, 61],\n",
    "     [1, 0, 167, 62],\n",
    "     [1, 1, 174, 69],\n",
    "     [0, 0, 184, 82],\n",
    "     [0, 1, 178, 63],\n",
    "     [1, 1, 174, 69],\n",
    "     [2, 1, 166, 60],\n",
    "     [2, 2, 155, 56],\n",
    "     [0, 2, 167, 59],\n",
    "     [2, 2, 165, 60],\n",
    "     [1, 1, 173, 68],\n",
    "     [0, 2, 167, 59],\n",
    "     [0, 2, 174, 73]]\n",
    "y = [0, 0, 1, 0, 0, 0, 1, 1, 0, 0, 1, 0, 0, 1]\n",
    "X_train = np.array(X)\n",
    "y_train = np.array(y)\n",
    "\n",
    "nb_clf_ = NaiveBayes(continuous_features = [2,3])\n",
    "nb_clf_.train(X_train, y_train)\n",
    "\n",
    "nb_clf_.predict(X_train)"
   ]
  },
  {
   "cell_type": "markdown",
   "metadata": {},
   "source": [
    "# Once your implementation is ready run the Naive Bayes classifier and compute the classification accuracy for the  datasets  we mentioned above.\n",
    "\n",
    "## (You have to fill  the compute_accuracy() function in the utils.py script)\n",
    "\n",
    "\n"
   ]
  },
  {
   "cell_type": "markdown",
   "metadata": {},
   "source": [
    "-------------------------------------------------------------------------------------------------------------------"
   ]
  },
  {
   "cell_type": "markdown",
   "metadata": {},
   "source": [
    "# Naive Bayes classifier with continuous dataset assuming Normal distribution\n",
    "# Run the Naive Bayes classifier using following datasets and compute the classification accuracy\n",
    "- iris dataset (https://scikit-learn.org/stable/datasets/toy_dataset.html#iris-plants-dataset)\n",
    "- Breast cancer dataset (https://scikit-learn.org/stable/datasets/toy_dataset.html#breast-cancer-wisconsin-diagnostic-dataset)\n",
    "\n",
    "\n",
    "\n",
    "- For the iris dataset draw the decision surfaces for 3 different combinations of attributes (1st-2nd),  (1st-3rd) and (1st-3rd)"
   ]
  },
  {
   "cell_type": "code",
   "execution_count": 25,
   "metadata": {},
   "outputs": [],
   "source": [
    "from utils import compute_accuracy"
   ]
  },
  {
   "cell_type": "markdown",
   "metadata": {},
   "source": [
    "<h4>Generic function for NaiveBayes class we created</h4>\n",
    "Cette fonction sera appelée pour chaque dataset utilisé"
   ]
  },
  {
   "cell_type": "code",
   "execution_count": 26,
   "metadata": {},
   "outputs": [],
   "source": [
    "# Run the naive bayes classifier and compute the train and test accuracy\n",
    "\n",
    "def run_naive_bayes(X_train, y_train, X_test, y_test, continuous_features):\n",
    "    nb_clf = NaiveBayes(continuous_features=continuous_features)\n",
    "    nb_clf.train(X_train, y_train)\n",
    "    train_acc = compute_accuracy(y_train, nb_clf.predict(X_train))\n",
    "    test_acc = compute_accuracy(y_test, nb_clf.predict(X_test))\n",
    "    return train_acc, test_acc"
   ]
  },
  {
   "cell_type": "markdown",
   "metadata": {},
   "source": [
    "Fonction permettant d'afficher les résultats plus \"proprement\""
   ]
  },
  {
   "cell_type": "code",
   "execution_count": 27,
   "metadata": {},
   "outputs": [],
   "source": [
    "def display_table(data):\n",
    "        print(\"Dataset            | Train Accuracy  | Test Accuracy\")\n",
    "        print(\"--------------------------------------------------\")\n",
    "        for entry in data:\n",
    "            dataset, train_acc, test_acc = entry\n",
    "            print(f\"{dataset:<18} | {train_acc * 100:.2f}%          | {test_acc * 100:.2f}%\")"
   ]
  },
  {
   "cell_type": "code",
   "execution_count": 28,
   "metadata": {},
   "outputs": [],
   "source": [
    "#Format de notre jeu de données contenant tous nos résultats\n",
    "data_results = []"
   ]
  },
  {
   "cell_type": "markdown",
   "metadata": {},
   "source": [
    "## Iris dataset"
   ]
  },
  {
   "cell_type": "code",
   "execution_count": 29,
   "metadata": {},
   "outputs": [],
   "source": [
    "# Cleaning up variables to prevent loading data multiple times (which may cause memory issues)\n",
    "try:\n",
    "   del X_train, y_train\n",
    "   del X_test, y_test\n",
    "   print('Clear previously loaded data.')\n",
    "except:\n",
    "   pass"
   ]
  },
  {
   "cell_type": "code",
   "execution_count": 30,
   "metadata": {},
   "outputs": [
    {
     "name": "stdout",
     "output_type": "stream",
     "text": [
      "Training data shape:  (100, 4)\n",
      "Training labels shape:  (100,)\n",
      "Test data shape:  (50, 4)\n",
      "Test labels shape:  (50,)\n"
     ]
    }
   ],
   "source": [
    "# Loas the iris data set\n",
    "from utils import load_IRIS\n",
    "X_train, y_train, X_test, y_test = load_IRIS(test=True)\n",
    "\n",
    "# print out the size of the training and test data.\n",
    "print('Training data shape: ', X_train.shape)\n",
    "print('Training labels shape: ', y_train.shape)\n",
    "print('Test data shape: ', X_test.shape)\n",
    "print('Test labels shape: ', y_test.shape)\n"
   ]
  },
  {
   "cell_type": "markdown",
   "metadata": {},
   "source": [
    "### To Do: Run the naive bayes classifier and compute the train and test accuracy"
   ]
  },
  {
   "cell_type": "code",
   "execution_count": 31,
   "metadata": {},
   "outputs": [
    {
     "name": "stdout",
     "output_type": "stream",
     "text": [
      "Train accuracy: 0.960000\n",
      "Test accuracy: 0.960000\n"
     ]
    }
   ],
   "source": [
    "#IRIS\n",
    "\n",
    "\n",
    "train_acc, test_acc = run_naive_bayes(X_train, y_train, X_test, y_test, 'all')\n",
    "print(f\"Train accuracy: {train_acc:.6f}\")\n",
    "print(f\"Test accuracy: {test_acc:.6f}\")\n",
    "data_results.append([\"Iris\", train_acc, test_acc])\n"
   ]
  },
  {
   "cell_type": "markdown",
   "metadata": {},
   "source": [
    "### To Do: Decision surfaces. Draw the decision surfaces for 3 different combinations of attributes (1st-2nd),  (1st-3rd) and (1st-3rd). "
   ]
  },
  {
   "cell_type": "code",
   "execution_count": 34,
   "metadata": {},
   "outputs": [
    {
     "data": {
      "image/png": "[encoded data removed]",
      "text/plain": [
       "<Figure size 640x480 with 1 Axes>"
      ]
     },
     "metadata": {},
     "output_type": "display_data"
    }
   ],
   "source": [
    "# For our visualisation we will  keep only two first attributs.\n",
    "# You can choose 2 attribus here\n",
    "X_train, y_train = load_IRIS(test=False)\n",
    "\n",
    "attribut_1 = 1\n",
    "attribut_2 = 2\n",
    "axes_labels = ['Sepal Length', 'Sepal Width', 'Petal Length', 'Petal Width']\n",
    "\n",
    "X_train_2_features = np.array([X_train[:,attribut_1], X_train[:,attribut_2]]).T\n",
    "axes_label_1 = axes_labels[attribut_1]\n",
    "axes_label_2 = axes_labels[attribut_2]\n",
    "\n",
    "# plot the decision surface\n",
    "model = NaiveBayes(continuous_features = 'all')\n",
    "\n",
    "colors_points = ['blue', 'red', 'green']\n",
    "\n",
    "X = X_train_2_features\n",
    "y = y_train\n",
    "plot_decision_boundary(model, X, y, axes_label_1, axes_label_2)               "
   ]
  },
  {
   "cell_type": "code",
   "execution_count": 35,
   "metadata": {},
   "outputs": [
    {
     "data": {
      "image/png": "[encoded data removed]",
      "text/plain": [
       "<Figure size 640x480 with 1 Axes>"
      ]
     },
     "metadata": {},
     "output_type": "display_data"
    }
   ],
   "source": [
    "# For our visualisation we will only keep only two first attributs.\n",
    "# You can choose 2 attribus here\n",
    "X_train, y_train = load_IRIS(test=False)\n",
    "\n",
    "attribut_1 = 1\n",
    "attribut_2 = 3\n",
    "axes_labels = ['Sepal Length', 'Sepal Width', 'Petal Length', 'Petal Width']\n",
    "\n",
    "X_train_2_features = np.array([X_train[:,attribut_1], X_train[:,attribut_2]]).T\n",
    "axes_label_1 = axes_labels[attribut_1]\n",
    "axes_label_2 = axes_labels[attribut_2]\n",
    "\n",
    "# plot the decision surface\n",
    "model = NaiveBayes(continuous_features = 'all')\n",
    "\n",
    "colors_points = ['blue', 'red', 'green']\n",
    "\n",
    "X = X_train_2_features\n",
    "y = y_train\n",
    "plot_decision_boundary(model, X, y, axes_label_1, axes_label_2)               "
   ]
  },
  {
   "cell_type": "code",
   "execution_count": 36,
   "metadata": {},
   "outputs": [
    {
     "data": {
      "image/png": "[encoded data removed]",
      "text/plain": [
       "<Figure size 640x480 with 1 Axes>"
      ]
     },
     "metadata": {},
     "output_type": "display_data"
    }
   ],
   "source": [
    "# For our visualisation we will only keep only two first attributs.\n",
    "# You can choose 2 attribus here\n",
    "X_train, y_train = load_IRIS(test=False)\n",
    "\n",
    "attribut_1 = 2\n",
    "attribut_2 = 3\n",
    "axes_labels = ['Sepal Length', 'Sepal Width', 'Petal Length', 'Petal Width']\n",
    "\n",
    "X_train_2_features = np.array([X_train[:,attribut_1], X_train[:,attribut_2]]).T\n",
    "axes_label_1 = axes_labels[attribut_1]\n",
    "axes_label_2 = axes_labels[attribut_2]\n",
    "\n",
    "# plot the decision surface\n",
    "model = NaiveBayes(continuous_features = 'all')\n",
    "\n",
    "colors_points = ['blue', 'red', 'green']\n",
    "\n",
    "X = X_train_2_features\n",
    "y = y_train\n",
    "plot_decision_boundary(model, X, y, axes_label_1, axes_label_2)               "
   ]
  },
  {
   "cell_type": "markdown",
   "metadata": {},
   "source": [
    "## Breast cancer dataset\n",
    "\n"
   ]
  },
  {
   "cell_type": "code",
   "execution_count": 208,
   "metadata": {},
   "outputs": [
    {
     "name": "stdout",
     "output_type": "stream",
     "text": [
      "Clear previously loaded data.\n"
     ]
    }
   ],
   "source": [
    "# Cleaning up variables to prevent loading data multiple times (which may cause memory issues)\n",
    "try:\n",
    "   del X_train, y_train\n",
    "   del X_test, y_test\n",
    "   print('Clear previously loaded data.')\n",
    "except:\n",
    "   pass"
   ]
  },
  {
   "cell_type": "code",
   "execution_count": 209,
   "metadata": {},
   "outputs": [
    {
     "data": {
      "text/plain": [
       "(399, 30)"
      ]
     },
     "execution_count": 209,
     "metadata": {},
     "output_type": "execute_result"
    }
   ],
   "source": [
    "#load the digits dataset from sklearn\n",
    "\n",
    "from sklearn import datasets\n",
    "\n",
    "data = datasets.load_breast_cancer()\n",
    "\n",
    "X, y = shuffle(data.data, data.target, random_state= 1234)\n",
    "\n",
    "\n",
    "X_train, y_train, X_test, y_test = train_test_split(X, y, test_size=0.3, normalize = True)\n",
    "X_train.shape"
   ]
  },
  {
   "cell_type": "markdown",
   "metadata": {},
   "source": [
    "### To Do: Run the naive bayes classifier and compute the train and test accuracy\n"
   ]
  },
  {
   "cell_type": "code",
   "execution_count": 210,
   "metadata": {},
   "outputs": [
    {
     "name": "stdout",
     "output_type": "stream",
     "text": [
      "Train accuracy: 0.917\n",
      "Test accuracy: 0.941\n"
     ]
    }
   ],
   "source": [
    "#IRIS\n",
    "\n",
    "\n",
    "train_acc, test_acc = run_naive_bayes(X_train, y_train, X_test, y_test, 'all')\n",
    "print(f\"Train accuracy: {train_acc:.3f}\")\n",
    "print(f\"Test accuracy: {test_acc:.3f}\")\n",
    "\n",
    "data_results.append([\"Breast_cancer\", train_acc, test_acc])\n"
   ]
  },
  {
   "cell_type": "markdown",
   "metadata": {},
   "source": [
    "-------------------------------------------------------------------------------------------------------------------"
   ]
  },
  {
   "cell_type": "markdown",
   "metadata": {},
   "source": [
    "# Naive Bayes Classifier for categorical dataset\n",
    "# Run the Naive Bayes classifier using following dataset and compute the classification accuracy \n",
    "\n",
    "- handwritten digits dataset (https://scikit-learn.org/stable/datasets/toy_dataset.html#optical-recognition-of-handwritten-digits-dataset)\n",
    "\n"
   ]
  },
  {
   "cell_type": "markdown",
   "metadata": {},
   "source": [
    "## Digits dataset\n",
    "\n",
    "Each datapoint is a 8x8 image of a digit."
   ]
  },
  {
   "cell_type": "code",
   "execution_count": 211,
   "metadata": {},
   "outputs": [
    {
     "name": "stdout",
     "output_type": "stream",
     "text": [
      "Clear previously loaded data.\n"
     ]
    }
   ],
   "source": [
    "# Cleaning up variables to prevent loading data multiple times (which may cause memory issues)\n",
    "try:\n",
    "   del X_train, y_train\n",
    "   del X_test, y_test\n",
    "   print('Clear previously loaded data.')\n",
    "except:\n",
    "   pass"
   ]
  },
  {
   "cell_type": "code",
   "execution_count": 212,
   "metadata": {},
   "outputs": [
    {
     "name": "stdout",
     "output_type": "stream",
     "text": [
      "[[ 0.  0.  8. ...  0.  0.  0.]\n",
      " [ 0.  0.  0. ... 16.  6.  0.]\n",
      " [ 0.  0.  4. ...  0.  0.  0.]\n",
      " ...\n",
      " [ 0.  0.  6. ...  5.  0.  0.]\n",
      " [ 0.  0.  4. ...  6.  0.  0.]\n",
      " [ 0.  0.  3. ... 10.  0.  0.]]\n",
      "Min Pixel Value: 0.0 \n",
      "Max Pixel Value: 16.0\n"
     ]
    },
    {
     "data": {
      "text/plain": [
       "(1079, 64)"
      ]
     },
     "execution_count": 212,
     "metadata": {},
     "output_type": "execute_result"
    }
   ],
   "source": [
    "#load the digits dataset from sklearn\n",
    "\n",
    "from sklearn import datasets\n",
    "\n",
    "data = datasets.load_digits()\n",
    "\n",
    "X, y = shuffle(data.data, data.target, random_state= 1234)\n",
    "\n",
    "print(X)\n",
    "print('Min Pixel Value: {} \\nMax Pixel Value: {}'.format(X.min(), X.max()))\n",
    "\n",
    "\n",
    "\n",
    "X_train, y_train, X_test, y_test = train_test_split(X, y, test_size=0.4, normalize = True)\n",
    "X_train.shape"
   ]
  },
  {
   "cell_type": "code",
   "execution_count": 213,
   "metadata": {},
   "outputs": [
    {
     "data": {
      "image/png": "[encoded data removed]",
      "text/plain": [
       "<Figure size 640x480 with 5 Axes>"
      ]
     },
     "metadata": {},
     "output_type": "display_data"
    }
   ],
   "source": [
    "import matplotlib.pyplot as plt\n",
    "\n",
    "# Visualize examples from the Digits dataset\n",
    "for i in range(5):\n",
    "    image = data.images[i]\n",
    "    plt.subplot(1, 5, i+1);          \n",
    "    plt.axis('off')\n",
    "    plt.imshow(image, cmap=plt.cm.gray_r, interpolation=\"nearest\")\n",
    "plt.tight_layout(); \n",
    "plt.show()\n",
    "\n"
   ]
  },
  {
   "cell_type": "markdown",
   "metadata": {},
   "source": [
    "### To Do: Run the naive bayes classifier and compute the train and test accuracy"
   ]
  },
  {
   "cell_type": "code",
   "execution_count": 214,
   "metadata": {},
   "outputs": [
    {
     "name": "stdout",
     "output_type": "stream",
     "text": [
      "Train accuracy: 0.894\n",
      "Test accuracy: 0.859\n"
     ]
    }
   ],
   "source": [
    "# Run the naive bayes classifier and compute the train and test accuracy\n",
    "\n",
    "train_acc, test_acc = run_naive_bayes(X_train, y_train, X_test, y_test, None)\n",
    "print(f\"Train accuracy: {train_acc:.3f}\")\n",
    "print(f\"Test accuracy: {test_acc:.3f}\")\n",
    "\n",
    "data_results.append([\"Digits\", train_acc, test_acc])\n"
   ]
  },
  {
   "cell_type": "markdown",
   "metadata": {},
   "source": [
    "-------------------------------------------------------------------------------------------------------------------"
   ]
  },
  {
   "cell_type": "markdown",
   "metadata": {},
   "source": [
    "## Naive Bayes Classifier for datset with both continuous & categorical features\n",
    "## Run the Naive Bayes classifier using following dataset and compute the classification accuracy\n",
    "-  Forest covertypes dataset (https://scikit-learn.org/stable/datasets/real_world.html#forest-covertypes)\n",
    "    - **This dataset containts both continuous and categorical features**\n",
    "    - dataset’s homepage:  https://archive.ics.uci.edu/ml/datasets/Covertype\n",
    "    \n",
    "Attribute Information:\n",
    "\n",
    "Given is the attribute name, attribute type, the measurement unit and a brief description. The forest cover type is the classification problem. The order of this listing corresponds to the order of numerals along the rows of the database. \n",
    "\n",
    "Name / Data Type / Measurement / Description:\n",
    "\n",
    "- Elevation / quantitative /meters / Elevation in meters \n",
    "- Aspect / quantitative / azimuth / Aspect in degrees azimuth \n",
    "- Slope / quantitative / degrees / Slope in degrees \n",
    "- Horizontal_Distance_To_Hydrology / quantitative / meters / Horz Dist to nearest surface water features \n",
    "- Vertical_Distance_To_Hydrology / quantitative / meters / Vert Dist to nearest surface water features \n",
    "- Horizontal_Distance_To_Roadways / quantitative / meters / Horz Dist to nearest roadway \n",
    "- Hillshade_9am / quantitative / 0 to 255 index / Hillshade index at 9am, summer solstice \n",
    "- Hillshade_Noon / quantitative / 0 to 255 index / Hillshade index at noon, summer soltice \n",
    "- Hillshade_3pm / quantitative / 0 to 255 index / Hillshade index at 3pm, summer solstice \n",
    "- Horizontal_Distance_To_Fire_Points / quantitative / meters / Horz Dist to nearest wildfire ignition points \n",
    "- Wilderness_Area **(4 binary columns)** / qualitative / 0 (absence) or 1 (presence) / Wilderness area designation \n",
    "- Soil_Type **(40 binary columns)** / qualitative / 0 (absence) or 1 (presence) / Soil Type designation \n",
    "- Cover_Type (7 types) / integer / **1 to 7** / Forest Cover Type designation\n",
    "\n"
   ]
  },
  {
   "cell_type": "code",
   "execution_count": 215,
   "metadata": {},
   "outputs": [
    {
     "name": "stdout",
     "output_type": "stream",
     "text": [
      "Clear previously loaded data.\n"
     ]
    }
   ],
   "source": [
    "# Cleaning up variables to prevent loading data multiple times (which may cause memory issues)\n",
    "try:\n",
    "   del X_train, y_train\n",
    "   del X_test, y_test\n",
    "   print('Clear previously loaded data.')\n",
    "except:\n",
    "   pass"
   ]
  },
  {
   "cell_type": "code",
   "execution_count": 216,
   "metadata": {},
   "outputs": [
    {
     "name": "stdout",
     "output_type": "stream",
     "text": [
      ".. _covtype_dataset:\n",
      "\n",
      "Forest covertypes\n",
      "-----------------\n",
      "\n",
      "The samples in this dataset correspond to 30Ã—30m patches of forest in the US,\n",
      "collected for the task of predicting each patch's cover type,\n",
      "i.e. the dominant species of tree.\n",
      "There are seven covertypes, making this a multiclass classification problem.\n",
      "Each sample has 54 features, described on the\n",
      "`dataset's homepage <https://archive.ics.uci.edu/ml/datasets/Covertype>`__.\n",
      "Some of the features are boolean indicators,\n",
      "while others are discrete or continuous measurements.\n",
      "\n",
      "**Data Set Characteristics:**\n",
      "\n",
      "    =================   ============\n",
      "    Classes                        7\n",
      "    Samples total             581012\n",
      "    Dimensionality                54\n",
      "    Features                     int\n",
      "    =================   ============\n",
      "\n",
      ":func:`sklearn.datasets.fetch_covtype` will load the covertype dataset;\n",
      "it returns a dictionary-like 'Bunch' object\n",
      "with the feature matrix in the ``data`` member\n",
      "and the target values in ``target``. If optional argument 'as_frame' is\n",
      "set to 'True', it will return ``data`` and ``target`` as pandas\n",
      "data frame, and there will be an additional member ``frame`` as well.\n",
      "The dataset will be downloaded from the web if necessary.\n",
      "\n",
      "(581012, 54)\n",
      "[1 2 3 4 5 6 7]\n"
     ]
    }
   ],
   "source": [
    "#load the digits dataset from sklearn\n",
    "\n",
    "from sklearn import datasets\n",
    "\n",
    "data = datasets.fetch_covtype()\n",
    "\n",
    "X_, y_ = shuffle(data.data, data.target, random_state= 1234)\n",
    "\n",
    "print(data.DESCR)\n",
    "print(X_.shape)\n",
    "print(np.unique(y_))\n"
   ]
  },
  {
   "cell_type": "code",
   "execution_count": 217,
   "metadata": {},
   "outputs": [
    {
     "name": "stdout",
     "output_type": "stream",
     "text": [
      "(581012, 10)\n"
     ]
    }
   ],
   "source": [
    "# Prepere the data\n",
    "\n",
    "# Soil_Type (40 binary columns) / qualitative / 0 (absence) or 1 (presence) / Soil Type designation \n",
    "Soil_Type = np.argwhere(X_[:,-44:-40]==1)[:,1]\n",
    "Soil_Type = Soil_Type[:,np.newaxis]\n",
    "\n",
    "\n",
    "\n",
    "#Wilderness_Area (4 binary columns) / qualitative / 0 (absence) or 1 (presence) / Wilderness area designation \n",
    "Wilderness_Area = np.argwhere(X_[:,-40:]==1)[:,1]\n",
    "Wilderness_Area = Wilderness_Area[:,np.newaxis]\n",
    "\n",
    "cont = X_[:,:10]\n",
    "print(cont.shape)\n",
    "\n",
    "X = np.hstack([cont, Soil_Type, Wilderness_Area])\n",
    "\n",
    "# Cover_Type (7 types) / integer / 1 to 7 / Forest Cover Type designation\n",
    "y = y_-1"
   ]
  },
  {
   "cell_type": "code",
   "execution_count": 218,
   "metadata": {},
   "outputs": [
    {
     "name": "stdout",
     "output_type": "stream",
     "text": [
      "(348608, 12)\n",
      "[0 1 2 3 4 5 6]\n"
     ]
    }
   ],
   "source": [
    "X_train, y_train, X_test, y_test = train_test_split(X, y, test_size=0.4, normalize = True)\n",
    "print(X_train.shape)\n",
    "print(np.unique(y_train))"
   ]
  },
  {
   "cell_type": "markdown",
   "metadata": {},
   "source": [
    "### To Do: Run the naive bayes classifier and compute the train and test accuracy"
   ]
  },
  {
   "cell_type": "code",
   "execution_count": 219,
   "metadata": {},
   "outputs": [
    {
     "name": "stdout",
     "output_type": "stream",
     "text": [
      "Train accuracy: 0.636\n",
      "Test accuracy: 0.636\n"
     ]
    }
   ],
   "source": [
    "# Run the naive bayes classifier and compute the train and test accuracy\n",
    "\n",
    "train_acc, test_acc = run_naive_bayes(X_train, y_train, X_test, y_test, [0,1,2,3,4,5,6,7,8,9])\n",
    "print(f\"Train accuracy: {train_acc:.3f}\")\n",
    "print(f\"Test accuracy: {test_acc:.3f}\")\n",
    "\n",
    "data_results.append([\"Forest covertypes\", train_acc, test_acc])"
   ]
  },
  {
   "cell_type": "markdown",
   "metadata": {},
   "source": [
    "-------------------------------------------------------------------------------------------------------------------"
   ]
  },
  {
   "cell_type": "markdown",
   "metadata": {},
   "source": [
    "<h3>All Results</h3>"
   ]
  },
  {
   "cell_type": "code",
   "execution_count": 226,
   "metadata": {},
   "outputs": [
    {
     "name": "stdout",
     "output_type": "stream",
     "text": [
      "Dataset            | Train Accuracy  | Test Accuracy\n",
      "--------------------------------------------------\n",
      "Iris               | 96.00%          | 96.00%\n",
      "Breast_cancer      | 91.73%          | 94.12%\n",
      "Digits             | 89.43%          | 85.93%\n",
      "Forest covertypes  | 63.55%          | 63.65%\n"
     ]
    }
   ],
   "source": [
    "\n",
    "display_table(data_results)"
   ]
  },
  {
   "cell_type": "code",
   "execution_count": null,
   "metadata": {},
   "outputs": [],
   "source": []
  },
  {
   "cell_type": "code",
   "execution_count": null,
   "metadata": {},
   "outputs": [],
   "source": []
  }
 ],
 "metadata": {
  "kernelspec": {
   "display_name": "Python 3 (ipykernel)",
   "language": "python",
   "name": "python3"
  },
  "language_info": {
   "codemirror_mode": {
    "name": "ipython",
    "version": 3
   },
   "file_extension": ".py",
   "mimetype": "text/x-python",
   "name": "python",
   "nbconvert_exporter": "python",
   "pygments_lexer": "ipython3",
   "version": "3.10.9"
  }
 },
 "nbformat": 4,
 "nbformat_minor": 4
}
