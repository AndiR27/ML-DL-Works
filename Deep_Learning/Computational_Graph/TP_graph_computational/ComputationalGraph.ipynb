{
 "cells": [
  {
   "cell_type": "markdown",
   "metadata": {},
   "source": [
    "# TP: Computational Graph\n",
    "\n",
    "During last TP we asked you to make the backward pass, implementing all the derivatives needed.\n",
    "As you can expect, doing this every time you make a new model is a little redundant.\n",
    "The ML libraries allow you to implement models by focusing only on the forward pass, they construct than a graph and compute derivatives from the bottom to the leafs of the graph. This graph is known as \"computational graph\".\n",
    "\n",
    "The aim of this TP is to build a computational graph inspired by [pytorch](https://pytorch.org/), and than test it with a simple model (MLP).\n",
    "The construction of the model, of the loss and the optimizer are also inspired by pytorch.\n",
    "\n",
    "The transition to pytorch should be easy in the future.\n",
    "\n",
    "**Disclaimer** This code is inspired by how users use Pytorch, it doesn't replace Pytorch and the implemtatin differ form Pytorch. The only goal of this TP is to give an intuition how pytorch and the computational graph work, before starting using it!\n",
    "\n",
    "## The Computational Graph\n",
    "\n",
    "The computational graph is a graph that specifies the operations done to get a given value.\n",
    "If C = A + B, the graph will look like:\n",
    "\n",
    "```\n",
    "A\n",
    " \\\n",
    "  \\\n",
    "   + -- C\n",
    "  /\n",
    " /\n",
    "B\n",
    "```\n",
    "\n",
    "or if F = C \\* D and E = log(F), the graph will look like:\n",
    "\n",
    "```\n",
    "A\n",
    " \\\n",
    "  \\\n",
    "   + -- C\n",
    "  /      \\\n",
    " /        \\\n",
    "B          * -- F -- log -- E\n",
    "          /\n",
    "         /\n",
    "        D\n",
    "```\n",
    "\n",
    "As you can see, the graph is build during the \"forward pass\" and it is easy to see the gradients flow (start on E and end on the leafs A, B and D.\n",
    "\n",
    "### Variable\n",
    "\n",
    "To build this graph in our code, we introduce an object called Variable. This object will look like an array in numpy, it will content data, and have methods like mean, sum, t, etc. Variable has also a grad, a grad\\_\\_fn, and children field.\n",
    "\n",
    "- Variable.grad: store the gradients during the backward pass for the given variable (same shape as Variabale.shape)\n",
    "- Variable.grad_fn: store the function that has built this Variable (addition, multiplication, etc)\n",
    "- Variable.children: list of all the operations where the Variable was used. We need Variable.children during backward pass to know if all the children have propagated their gradients before the current variable compute in turn its gradients.\n",
    "\n",
    "### Functions\n",
    "\n",
    "Functions cointains all the oprations we can use in your code. Each operation needs a forward and a backward method.\n",
    "The forward method is simply the **init** method where you compute and store the result of the operation.\n",
    "There is 2 backward methods:\n",
    "\n",
    "- backward (general): Inherited from the \\_Function parent class, it calls the second \\_backward method (see below) and updates the gradients of the variables used to build the current one.\n",
    "- \\_backward (specific): Is specific to each operation, computes the gradients for its parents. The derivatives are computed according to the specific operation.\n",
    "\n",
    "### Functional\n",
    "\n",
    "Is simply an interface for all functions defined in functions.\n",
    "You don't need to touch this file. but take a look at it, because it gives you all the functions you have added.\n",
    "If you don't use a function from this interface, you will not be able to construct the graph and propagate through it.\n",
    "\n",
    "_|!\\* Even the standart operation you can use directly: +, -, _, / use the operation of functional! Take a look at Variable.**add**, Variable.**sub**, Variable.**mul**, Variable.**truediv** if you doubt.\n",
    "\n",
    "## What we ask you to do:\n",
    "\n",
    "Complete the _Fill here_ in the following cells of this notebook.\n",
    "Use latex notation to add your formulas.\n",
    "Once you have filled the missing parts of an operation, go to function.py and implement the missing parts of it. Tests are provided by saving the gradients using pytorch on the same conditions (same arrays, gradients cleared between operations).\n"
   ]
  },
  {
   "cell_type": "markdown",
   "metadata": {},
   "source": [
    "Before starting with the derivatives, let's take a look at variable.py.\n",
    "The majority of this class is provided to you. We **ask you to describe a little this class in your report,\n",
    "mostly the methods backward and update_grad**. Then fill in the missing parts of these two methods.\n"
   ]
  },
  {
   "cell_type": "markdown",
   "metadata": {},
   "source": [
    "We will now create the Variables you will use to test your implementation.\n"
   ]
  },
  {
   "cell_type": "code",
   "execution_count": 2,
   "metadata": {
    "scrolled": false
   },
   "outputs": [
    {
     "name": "stdout",
     "output_type": "stream",
     "text": [
      "Variables Informations:\n",
      "\n",
      "Name: a\n",
      "Data:\n",
      " [[4.5]]\n",
      "Shape: (1, 1)\n",
      "Grad:\n",
      " None\n",
      "Grad_fn: None\n"
     ]
    }
   ],
   "source": [
    "# for auto-reloading external modules\n",
    "# see http://stackoverflow.com/questions/1907993/autoreload-of-modules-in-ipython\n",
    "%load_ext autoreload\n",
    "%autoreload 2\n",
    "\n",
    "from functional import F\n",
    "from variable import Variable\n",
    "\n",
    "def display_variable_information(name, var):\n",
    "    print(\"\\nName:\", name)\n",
    "    print(\"Data:\\n\", var.data)\n",
    "    print(\"Shape:\", var.shape)\n",
    "    print(\"Grad:\\n\", var.grad)\n",
    "    print(\"Grad_fn:\", var.grad_fn)\n",
    "\n",
    "# scalars\n",
    "a = Variable([4.5])\n",
    "b = Variable([6.78])\n",
    "\n",
    "# arrays\n",
    "C = Variable([[1.73, 2.83], [5.13, 8.43], [5.13, 8.43]])\n",
    "D = Variable([[3.57, 4.96], [2.06, 1.94], [5.13, 8.43]])\n",
    "\n",
    "\n",
    "print(\"Variables Informations:\")\n",
    "# uncomment if you want\n",
    "display_variable_information(\"a\", a)\n",
    "#display_variable_information(\"b\", b)\n",
    "#display_variable_information(\"c\", C)\n",
    "#display_variable_information(\"d\", D)"
   ]
  },
  {
   "cell_type": "code",
   "execution_count": 3,
   "metadata": {},
   "outputs": [],
   "source": [
    "from check_values import check_result_and_grads\n",
    "\n",
    "\n",
    "def clear_variables(*argv):\n",
    "    \"\"\"Clear all Variables passed in arguments.\"\"\"\n",
    "    for var in argv:\n",
    "        var.grad = None\n",
    "        var.grad_fn = None\n",
    "        var.children = []\n",
    "        var.retained_values = {}\n"
   ]
  },
  {
   "cell_type": "markdown",
   "metadata": {},
   "source": [
    "# Addition\n",
    "\n",
    "**Given to you as example**\n",
    "\n",
    "**Inputs**: $x, y$\n",
    "\n",
    "**Operation**: $f(x,y) = x + y$\n",
    "\n",
    "**Derivatives**:\n",
    "\n",
    "- **w.r.t.** $x$:\n",
    "\n",
    "  $\\frac{\\partial f}{\\partial x} = 1$\n",
    "\n",
    "  By chain rule:\n",
    "  $\\frac{\\partial}{\\partial x} = \\frac{\\partial}{\\partial f} \\cdot \\frac{\\partial f}{\\partial x} = \\frac{\\partial}{\\partial f} \\cdot 1 = \\frac{\\partial}{\\partial f}$\n",
    "\n",
    "- **w.r.t.** $y$:\n",
    "\n",
    "  $\\frac{\\partial f}{\\partial y} = 1$\n",
    "\n",
    "  By chain rule:\n",
    "  $\\frac{\\partial}{\\partial y} = \\frac{\\partial}{\\partial f} \\cdot \\frac{\\partial f}{\\partial y} = \\frac{\\partial}{\\partial f} \\cdot 1 = \\frac{\\partial}{\\partial f}$\n"
   ]
  },
  {
   "cell_type": "code",
   "execution_count": 3,
   "metadata": {},
   "outputs": [
    {
     "name": "stdout",
     "output_type": "stream",
     "text": [
      "\n",
      "Check operation addition(a, b):\n",
      "\tResult:\n",
      "\t\tShape: OK\n",
      "\t\tContent: OK\n",
      "\tGradients of a:\n",
      "\t\tShape: OK\n",
      "\t\tContent: OK\n",
      "\tGradients of b:\n",
      "\t\tShape: OK\n",
      "\t\tContent: OK\n",
      "\n",
      "Check operation addition(C, D):\n",
      "\tResult:\n",
      "\t\tShape: OK\n",
      "\t\tContent: OK\n",
      "\tGradients of C:\n",
      "\t\tShape: OK\n",
      "\t\tContent: OK\n",
      "\tGradients of D:\n",
      "\t\tShape: OK\n",
      "\t\tContent: OK\n"
     ]
    }
   ],
   "source": [
    "clear_variables(a, b, C, D)\n",
    "\n",
    "res_scalar = a + b\n",
    "res_scalar.backward()\n",
    "check_result_and_grads(res_scalar, a, b, operation=\"addition\", itype=\"scalar\")\n",
    "\n",
    "res_array = C + D\n",
    "res_array.mean().backward()\n",
    "check_result_and_grads(res_array, C, C, operation=\"addition\", itype=\"array\")\n"
   ]
  },
  {
   "cell_type": "markdown",
   "metadata": {},
   "source": [
    "# Subtraction\n",
    "\n",
    "**Inputs**: $x, y$\n",
    "\n",
    "**Operation**: $f(x,y) = x - y$\n",
    "\n",
    "**Derivatives**:\n",
    "+ **w.r.t.** $x$: \n",
    "    \n",
    "    $\\frac{\\partial f}{\\partial x} = 1$\n",
    "    \n",
    "    By chain rule:\n",
    "    $\\frac{\\partial}{\\partial x} = \\frac{\\partial}{\\partial f} \\cdot \\frac{\\partial f}{\\partial x} = \\frac{\\partial}{\\partial f} \\cdot 1 = \\frac{\\partial}{\\partial f}$\n",
    "\n",
    "+ **w.r.t.** $y$:\n",
    "\n",
    "    $\\frac{\\partial f}{\\partial y} = -1$\n",
    "    \n",
    "    By chain rule:\n",
    "    $\\frac{\\partial}{\\partial y} = \\frac{\\partial}{\\partial f} \\cdot \\frac{\\partial f}{\\partial y} = \\frac{\\partial}{\\partial f} \\cdot -1 = -\\frac{\\partial}{\\partial f}$"
   ]
  },
  {
   "cell_type": "code",
   "execution_count": 4,
   "metadata": {},
   "outputs": [
    {
     "name": "stdout",
     "output_type": "stream",
     "text": [
      "\n",
      "Check operation subtraction(a, b):\n",
      "\tResult:\n",
      "\t\tShape: OK\n",
      "\t\tContent: OK\n",
      "\tGradients of a:\n",
      "\t\tShape: OK\n",
      "\t\tContent: OK\n",
      "\tGradients of b:\n",
      "\t\tShape: OK\n",
      "\t\tContent: OK\n",
      "\n",
      "Check operation subtraction(C, D):\n",
      "\tResult:\n",
      "\t\tShape: OK\n",
      "\t\tContent: OK\n",
      "\tGradients of C:\n",
      "\t\tShape: OK\n",
      "\t\tContent: OK\n",
      "\tGradients of D:\n",
      "\t\tShape: OK\n",
      "\t\tContent: OK\n"
     ]
    }
   ],
   "source": [
    "clear_variables(a, b, C, D)\n",
    "\n",
    "res_scalar = a - b\n",
    "res_scalar.backward()\n",
    "check_result_and_grads(res_scalar, a, b, operation=\"subtraction\", itype=\"scalar\")\n",
    "\n",
    "res_array = C - D\n",
    "res_array.mean().backward()\n",
    "check_result_and_grads(res_array, C, D, operation=\"subtraction\", itype=\"array\")\n"
   ]
  },
  {
   "cell_type": "markdown",
   "metadata": {},
   "source": [
    "# Multiplication\n",
    "\n",
    "**Inputs**: $x, y$\n",
    "\n",
    "**Operation**: $f(x,y) = x * y$\n",
    "\n",
    "**Derivatives**:\n",
    "\n",
    "- **w.r.t.** $x$:\n",
    "\n",
    "  $\\frac{\\partial f}{\\partial x} = y$\n",
    "\n",
    "  By chain rule:\n",
    "  $\\frac{\\partial}{\\partial x} = \\frac{\\partial}{\\partial f} \\cdot \\frac{\\partial f}{\\partial x} = \\frac{\\partial}{\\partial f} * y$ \n",
    "\n",
    "- **w.r.t.** $y$:\n",
    "\n",
    "  $\\frac{\\partial f}{\\partial y} = x$\n",
    "\n",
    "  By chain rule:\n",
    "  $\\frac{\\partial}{\\partial y} = \\frac{\\partial}{\\partial f} \\cdot \\frac{\\partial f}{\\partial y} = \\frac{\\partial}{\\partial f} * x$ \n"
   ]
  },
  {
   "cell_type": "code",
   "execution_count": 5,
   "metadata": {},
   "outputs": [
    {
     "name": "stdout",
     "output_type": "stream",
     "text": [
      "\n",
      "Check operation multiplication(a, b):\n",
      "\tResult:\n",
      "\t\tShape: OK\n",
      "\t\tContent: OK\n",
      "\tGradients of a:\n",
      "\t\tShape: OK\n",
      "\t\tContent: OK\n",
      "\tGradients of b:\n",
      "\t\tShape: OK\n",
      "\t\tContent: OK\n",
      "\n",
      "Check operation multiplication(C, D):\n",
      "\tResult:\n",
      "\t\tShape: OK\n",
      "\t\tContent: OK\n",
      "\tGradients of C:\n",
      "\t\tShape: OK\n",
      "\t\tContent: OK\n",
      "\tGradients of D:\n",
      "\t\tShape: OK\n",
      "\t\tContent: OK\n"
     ]
    }
   ],
   "source": [
    "clear_variables(a, b, C, D)\n",
    "\n",
    "res_scalar = a * b\n",
    "res_scalar.backward()\n",
    "check_result_and_grads(res_scalar, a, b, operation=\"multiplication\", itype=\"scalar\")\n",
    "\n",
    "res_array = C * D\n",
    "res_array.mean().backward()\n",
    "check_result_and_grads(res_array, C, D, operation=\"multiplication\", itype=\"array\")\n"
   ]
  },
  {
   "cell_type": "markdown",
   "metadata": {},
   "source": [
    "# Division\n",
    "\n",
    "**Inputs**: $x, y$\n",
    "\n",
    "**Operation**: $f(x,y) = x / y$\n",
    "\n",
    "**Derivatives**:\n",
    "\n",
    "- **w.r.t.** $x$:\n",
    "\n",
    "  $\\frac{\\partial f}{\\partial x} = \\frac{ 1}{ y}$ \n",
    "\n",
    "  By chain rule:\n",
    "  $\\frac{\\partial}{\\partial x} = \\frac{\\partial}{\\partial f} \\cdot \\frac{\\partial f}{\\partial x} =  \\frac{\\partial}{\\partial f} * \\frac{ 1}{ y}$ \n",
    "\n",
    "- **w.r.t.** $y$:\n",
    "\n",
    "  $\\frac{\\partial f}{\\partial y} = -\\frac{ x}{ y^2}$ \n",
    "\n",
    "  By chain rule:\n",
    "  $\\frac{\\partial}{\\partial y} = \\frac{\\partial}{\\partial f} \\cdot \\frac{\\partial f}{\\partial y} = \\frac{\\partial}{\\partial f} * \\frac{-x}{ y^2}$ \n"
   ]
  },
  {
   "cell_type": "code",
   "execution_count": 6,
   "metadata": {},
   "outputs": [
    {
     "name": "stdout",
     "output_type": "stream",
     "text": [
      "\n",
      "Check operation division(a, b):\n",
      "\tResult:\n",
      "\t\tShape: OK\n",
      "\t\tContent: OK\n",
      "\tGradients of a:\n",
      "\t\tShape: OK\n",
      "\t\tContent: OK\n",
      "\tGradients of b:\n",
      "\t\tShape: OK\n",
      "\t\tContent: OK\n",
      "\n",
      "Check operation division(C, D):\n",
      "\tResult:\n",
      "\t\tShape: OK\n",
      "\t\tContent: OK\n",
      "\tGradients of C:\n",
      "\t\tShape: OK\n",
      "\t\tContent: OK\n",
      "\tGradients of D:\n",
      "\t\tShape: OK\n",
      "\t\tContent: OK\n"
     ]
    }
   ],
   "source": [
    "clear_variables(a, b, C, D)\n",
    "\n",
    "res_scalar = a / b\n",
    "res_scalar.backward()\n",
    "check_result_and_grads(res_scalar, a, b, operation=\"division\", itype=\"scalar\")\n",
    "\n",
    "res_array = C / D\n",
    "res_array.mean().backward()\n",
    "check_result_and_grads(res_array, C, D, operation=\"division\", itype=\"array\")\n"
   ]
  },
  {
   "cell_type": "markdown",
   "metadata": {},
   "source": [
    "# Matrix Multiplication\n",
    "\n",
    "**Inputs**: $x, y$\n",
    "\n",
    "**Operation**: $f(x,y) = x.dot(y)$\n",
    "\n",
    "**Derivatives**:\n",
    "\n",
    "- **w.r.t.** $x$:\n",
    "\n",
    "  $\\frac{\\partial f}{\\partial x} = y^T $\n",
    "\n",
    "  By chain rule:\n",
    "  $\\frac{\\partial}{\\partial x} = \\frac{\\partial}{\\partial f} \\cdot \\frac{\\partial f}{\\partial x} = \\frac{\\partial}{\\partial f} \\cdot y^T$ \n",
    "\n",
    "- **w.r.t.** $y$:\n",
    "\n",
    "  $\\frac{\\partial f}{\\partial y} = x^T$ \n",
    "\n",
    "  By chain rule:\n",
    "  $\\frac{\\partial}{\\partial y} = \\frac{\\partial}{\\partial f} \\cdot \\frac{\\partial f}{\\partial y} = \\frac{\\partial}{\\partial f} \\cdot x^T$ \n"
   ]
  },
  {
   "cell_type": "code",
   "execution_count": 4,
   "metadata": {},
   "outputs": [
    {
     "name": "stdout",
     "output_type": "stream",
     "text": [
      "\n",
      "Check operation matMul(C, D):\n",
      "\tResult:\n",
      "\t\tShape: OK\n",
      "\t\tContent: OK\n",
      "\tGradients of C:\n",
      "\t\tShape: OK\n",
      "\t\tContent: OK\n",
      "\tGradients of D:\n",
      "\t\tShape: OK\n",
      "\t\tContent: OK\n"
     ]
    }
   ],
   "source": [
    "clear_variables(a, b, C, D)\n",
    "\n",
    "res_array = F.matmul(C.t(), D)\n",
    "res_array.mean().backward()\n",
    "\n",
    "check_result_and_grads(res_array, C, D, operation=\"matMul\", itype=\"array\")\n"
   ]
  },
  {
   "cell_type": "markdown",
   "metadata": {},
   "source": [
    "# Exponential\n",
    "\n",
    "**Inputs**: $x$\n",
    "\n",
    "**Operation**: $f(x) = e^x$\n",
    "\n",
    "**Derivatives**:\n",
    "\n",
    "- **w.r.t.** $x$:\n",
    "  $\\frac{\\partial f}{\\partial x} = e^x$ \n",
    "  \n",
    "  By chain rule:\n",
    "  $\\frac{\\partial}{\\partial x} = \\frac{\\partial}{\\partial f} \\cdot \\frac{\\partial f}{\\partial x} = \\frac{\\partial}{\\partial f} \\cdot e^x$ \n"
   ]
  },
  {
   "cell_type": "code",
   "execution_count": 8,
   "metadata": {},
   "outputs": [
    {
     "name": "stdout",
     "output_type": "stream",
     "text": [
      "\n",
      "Check operation exp(a):\n",
      "\tResult:\n",
      "\t\tShape: OK\n",
      "\t\tContent: OK\n",
      "\tGradients of a:\n",
      "\t\tShape: OK\n",
      "\t\tContent: OK\n",
      "\n",
      "Check operation exp(C):\n",
      "\tResult:\n",
      "\t\tShape: OK\n",
      "\t\tContent: OK\n",
      "\tGradients of C:\n",
      "\t\tShape: OK\n",
      "\t\tContent: OK\n"
     ]
    }
   ],
   "source": [
    "clear_variables(a, b, C, D)\n",
    "\n",
    "res_scalar = F.exp(a)\n",
    "res_scalar.backward()\n",
    "check_result_and_grads(res_scalar, a, operation=\"exp\", itype=\"scalar\")\n",
    "\n",
    "res_array = F.exp(C)\n",
    "res_array.mean().backward()\n",
    "check_result_and_grads(res_array, C, operation=\"exp\", itype=\"array\")\n"
   ]
  },
  {
   "cell_type": "markdown",
   "metadata": {},
   "source": [
    "# Natural Logarithm\n",
    "\n",
    "**Inputs**: $x$\n",
    "\n",
    "**Operation**: $f(x) = ln(x)$\n",
    "\n",
    "**Derivatives**:\n",
    "\n",
    "- **w.r.t.** $x$:\n",
    "  $\\frac{\\partial f}{\\partial x} = \\frac{1}{x}$ \n",
    "  \n",
    "  By chain rule:\n",
    "  $\\frac{\\partial}{\\partial x} = \\frac{\\partial}{\\partial f} \\cdot \\frac{\\partial f}{\\partial x} = \\frac{\\partial}{\\partial f} \\cdot \\frac{1}{x}$ \n"
   ]
  },
  {
   "cell_type": "code",
   "execution_count": 9,
   "metadata": {},
   "outputs": [
    {
     "name": "stdout",
     "output_type": "stream",
     "text": [
      "\n",
      "Check operation log(a):\n",
      "\tResult:\n",
      "\t\tShape: OK\n",
      "\t\tContent: OK\n",
      "\tGradients of a:\n",
      "\t\tShape: OK\n",
      "\t\tContent: OK\n",
      "\n",
      "Check operation log(C):\n",
      "\tResult:\n",
      "\t\tShape: OK\n",
      "\t\tContent: OK\n",
      "\tGradients of C:\n",
      "\t\tShape: OK\n",
      "\t\tContent: OK\n"
     ]
    }
   ],
   "source": [
    "clear_variables(a, b, C, D)\n",
    "\n",
    "res_scalar = F.log(a)\n",
    "res_scalar.backward()\n",
    "check_result_and_grads(res_scalar, a, operation=\"log\", itype=\"scalar\")\n",
    "\n",
    "res_array = F.log(C)\n",
    "res_array.mean().backward()\n",
    "check_result_and_grads(res_array, C, operation=\"log\", itype=\"array\")\n"
   ]
  },
  {
   "cell_type": "markdown",
   "metadata": {},
   "source": [
    "# Sinus\n",
    "\n",
    "**Inputs**: $x$\n",
    "\n",
    "**Operation**: $f(x) = \\sin(x)$\n",
    "\n",
    "**Derivatives**:\n",
    "\n",
    "- **w.r.t.** $x$:\n",
    "  $\\frac{\\partial f}{\\partial x} = \\cos(x)$ _Fill here_\n",
    "  \n",
    "  By chain rule:\n",
    "  $\\frac{\\partial}{\\partial x} = \\frac{\\partial}{\\partial f} \\cdot \\frac{\\partial f}{\\partial x} = \\frac{\\partial}{\\partial f} \\cdot \\cos(x)$ "
   ]
  },
  {
   "cell_type": "code",
   "execution_count": 10,
   "metadata": {},
   "outputs": [
    {
     "name": "stdout",
     "output_type": "stream",
     "text": [
      "\n",
      "Check operation sin(a):\n",
      "\tResult:\n",
      "\t\tShape: OK\n",
      "\t\tContent: OK\n",
      "\tGradients of a:\n",
      "\t\tShape: OK\n",
      "\t\tContent: OK\n",
      "\n",
      "Check operation sin(C):\n",
      "\tResult:\n",
      "\t\tShape: OK\n",
      "\t\tContent: OK\n",
      "\tGradients of C:\n",
      "\t\tShape: OK\n",
      "\t\tContent: OK\n"
     ]
    }
   ],
   "source": [
    "clear_variables(a, b, C, D)\n",
    "\n",
    "res_scalar = F.sin(a)\n",
    "res_scalar.backward()\n",
    "check_result_and_grads(res_scalar, a, operation=\"sin\", itype=\"scalar\")\n",
    "\n",
    "res_array = F.sin(C)\n",
    "res_array.mean().backward()\n",
    "check_result_and_grads(res_array, C, operation=\"sin\", itype=\"array\")\n"
   ]
  },
  {
   "cell_type": "markdown",
   "metadata": {},
   "source": [
    "# Cosinus\n",
    "\n",
    "**Inputs**: $x$\n",
    "\n",
    "**Operation**: $f(x) = \\cos(x)$\n",
    "\n",
    "**Derivatives**:\n",
    "\n",
    "- **w.r.t.** $x$:\n",
    "  $\\frac{\\partial f}{\\partial x} = -\\sin(x) $\n",
    "  \n",
    "  By chain rule:\n",
    "  $\\frac{\\partial}{\\partial x} = \\frac{\\partial}{\\partial f} \\cdot \\frac{\\partial f}{\\partial x} = \\frac{\\partial}{\\partial f} \\cdot -\\sin(x)$ \n"
   ]
  },
  {
   "cell_type": "code",
   "execution_count": 11,
   "metadata": {},
   "outputs": [
    {
     "name": "stdout",
     "output_type": "stream",
     "text": [
      "\n",
      "Check operation cos(a):\n",
      "\tResult:\n",
      "\t\tShape: OK\n",
      "\t\tContent: OK\n",
      "\tGradients of a:\n",
      "\t\tShape: OK\n",
      "\t\tContent: OK\n",
      "\n",
      "Check operation cos(C):\n",
      "\tResult:\n",
      "\t\tShape: OK\n",
      "\t\tContent: OK\n",
      "\tGradients of C:\n",
      "\t\tShape: OK\n",
      "\t\tContent: OK\n"
     ]
    }
   ],
   "source": [
    "clear_variables(a, b, C, D)\n",
    "\n",
    "res_scalar = F.cos(a)\n",
    "res_scalar.backward()\n",
    "check_result_and_grads(res_scalar, a, operation=\"cos\", itype=\"scalar\")\n",
    "\n",
    "res_array = F.cos(C)\n",
    "res_array.mean().backward()\n",
    "check_result_and_grads(res_array, C, operation=\"cos\", itype=\"array\")\n"
   ]
  },
  {
   "cell_type": "markdown",
   "metadata": {},
   "source": [
    "# Tangent\n",
    "\n",
    "**Inputs**: $x$\n",
    "\n",
    "**Operation**: $f(x) = \\tan(x)$\n",
    "\n",
    "**Derivatives**:\n",
    "\n",
    "- **w.r.t.** $x$:\n",
    "  $\\frac{\\partial f}{\\partial x} = \\sec^2(x) = 1 + \\tan^2(x)$ \n",
    "  \n",
    "  By chain rule:\n",
    "  $\\frac{\\partial}{\\partial x} = \\frac{\\partial}{\\partial f} \\cdot \\frac{\\partial f}{\\partial x} = \\frac{\\partial}{\\partial f} \\cdot  1 + \\tan^2(x) $ \n"
   ]
  },
  {
   "cell_type": "code",
   "execution_count": 12,
   "metadata": {},
   "outputs": [
    {
     "name": "stdout",
     "output_type": "stream",
     "text": [
      "\n",
      "Check operation tan(a):\n",
      "\tResult:\n",
      "\t\tShape: OK\n",
      "\t\tContent: OK\n",
      "\tGradients of a:\n",
      "\t\tShape: OK\n",
      "\t\tContent: OK\n",
      "\n",
      "Check operation tan(C):\n",
      "\tResult:\n",
      "\t\tShape: OK\n",
      "\t\tContent: OK\n",
      "\tGradients of C:\n",
      "\t\tShape: OK\n",
      "\t\tContent: OK\n"
     ]
    }
   ],
   "source": [
    "clear_variables(a, b, C, D)\n",
    "\n",
    "res_scalar = F.tan(a)\n",
    "res_scalar.backward()\n",
    "check_result_and_grads(res_scalar, a, operation=\"tan\", itype=\"scalar\")\n",
    "\n",
    "res_array = F.tan(C)\n",
    "res_array.mean().backward()\n",
    "check_result_and_grads(res_array, C, operation=\"tan\", itype=\"array\")\n"
   ]
  },
  {
   "cell_type": "markdown",
   "metadata": {},
   "source": [
    "# Sigmoid\n",
    "\n",
    "**Inputs**: $x$\n",
    "\n",
    "**Operation**: $f(x) = \\frac{1}{1 + e^{-x}}$\n",
    "\n",
    "**Derivatives**:\n",
    "\n",
    "- **w.r.t.** $x$:\n",
    "  $\\frac{\\partial f}{\\partial x} = \\frac{e^{-x}}{(1 + e^{-x})^2} = \\frac{1}{1 + e^{-x}} \\cdot (1 - \\frac{1}{1 + e^{-x}})$ \n",
    "  \n",
    "  By chain rule:\n",
    "  $\\frac{\\partial}{\\partial x} = \\frac{\\partial}{\\partial f} \\cdot \\frac{\\partial f}{\\partial x} = \\frac{\\partial}{\\partial f} \\cdot (\\frac{1}{1 + e^{-x}} \\cdot (1 - \\frac{1}{1 + e^{-x}}))$\n"
   ]
  },
  {
   "cell_type": "code",
   "execution_count": 13,
   "metadata": {
    "scrolled": true
   },
   "outputs": [
    {
     "name": "stdout",
     "output_type": "stream",
     "text": [
      "\n",
      "Check operation sigmoid(a):\n",
      "\tResult:\n",
      "\t\tShape: OK\n",
      "\t\tContent: OK\n",
      "\tGradients of a:\n",
      "\t\tShape: OK\n",
      "\t\tContent: OK\n",
      "\n",
      "Check operation sigmoid(C):\n",
      "\tResult:\n",
      "\t\tShape: OK\n",
      "\t\tContent: OK\n",
      "\tGradients of C:\n",
      "\t\tShape: OK\n",
      "\t\tContent: OK\n"
     ]
    }
   ],
   "source": [
    "clear_variables(a, b, C, D)\n",
    "\n",
    "res_scalar = F.sigmoid(a)\n",
    "res_scalar.backward()\n",
    "check_result_and_grads(res_scalar, a, operation=\"sigmoid\", itype=\"scalar\")\n",
    "\n",
    "res_array = F.sigmoid(C)\n",
    "res_array[0, 0].backward()\n",
    "check_result_and_grads(res_array, C, operation=\"sigmoid\", itype=\"array\")\n"
   ]
  },
  {
   "cell_type": "markdown",
   "metadata": {},
   "source": [
    "# Tanh\n",
    "\n",
    "**Inputs**: $x$\n",
    "\n",
    "**Operation**: $f(x) = \\frac{e^{x} - e^{-x}}{e^{x} + e^{-x}}$\n",
    "\n",
    "**Derivatives**:\n",
    "\n",
    "- **w.r.t.** $x$:\n",
    "  $\\frac{\\partial f}{\\partial x} = 1 - \\frac{(e^{x}-e^{-x})^2}{(e^{x}-e^{-x})^2} = 1 - \\tanh^2(x)$ \n",
    "  \n",
    "  By chain rule:\n",
    "  $\\frac{\\partial}{\\partial x} = \\frac{\\partial}{\\partial f} \\cdot \\frac{\\partial f}{\\partial x} = \\frac{\\partial}{\\partial f} \\cdot (1 - \\tanh^2(x))$\n"
   ]
  },
  {
   "cell_type": "code",
   "execution_count": 14,
   "metadata": {},
   "outputs": [
    {
     "name": "stdout",
     "output_type": "stream",
     "text": [
      "\n",
      "Check operation tanh(a):\n",
      "\tResult:\n",
      "\t\tShape: OK\n",
      "\t\tContent: OK\n",
      "\tGradients of a:\n",
      "\t\tShape: OK\n",
      "\t\tContent: OK\n",
      "\n",
      "Check operation tanh(C):\n",
      "\tResult:\n",
      "\t\tShape: OK\n",
      "\t\tContent: OK\n",
      "\tGradients of C:\n",
      "\t\tShape: OK\n",
      "\t\tContent: OK\n"
     ]
    }
   ],
   "source": [
    "clear_variables(a, b, C, D)\n",
    "\n",
    "res_scalar = F.tanh(a)\n",
    "res_scalar.backward()\n",
    "check_result_and_grads(res_scalar, a, operation=\"tanh\", itype=\"scalar\")\n",
    "\n",
    "res_array = F.tanh(C)\n",
    "res_array[0, 0].backward()\n",
    "check_result_and_grads(res_array, C, operation=\"tanh\", itype=\"array\")\n"
   ]
  },
  {
   "cell_type": "markdown",
   "metadata": {},
   "source": [
    "# ReLu\n",
    "\n",
    "**Inputs**: $x$\n",
    "\n",
    "**Operation**: $f(x) = \\max(0, x)$\n",
    "\n",
    "**Derivatives**:\n",
    "\n",
    "- **w.r.t.** $x$:\n",
    "  $\\frac{\\partial f}{\\partial x} = \\begin{cases} \n",
    "            0 & \\text{if  }  x < 0 \\\\\n",
    "            1 & \\text{if  }  x > 0 \\\\\n",
    "            \\end{cases}$ \n",
    "  \n",
    "  By chain rule:\n",
    "  $\\frac{\\partial}{\\partial x} = \\frac{\\partial}{\\partial f} \\cdot \\frac{\\partial f}{\\partial x} = \\frac{\\partial}{\\partial f} \\cdot \\begin{cases} \n",
    "0 & \\text{if  }  x < 0 \\\\\n",
    "1 & \\text{if  }  x > 0 \\\\\n",
    "\\end{cases}$ \n"
   ]
  },
  {
   "cell_type": "code",
   "execution_count": 15,
   "metadata": {},
   "outputs": [
    {
     "name": "stdout",
     "output_type": "stream",
     "text": [
      "\n",
      "Check operation relu(a):\n",
      "\tResult:\n",
      "\t\tShape: OK\n",
      "\t\tContent: OK\n",
      "\tGradients of a:\n",
      "\t\tShape: OK\n",
      "\t\tContent: OK\n",
      "\n",
      "Check operation relu(C):\n",
      "\tResult:\n",
      "\t\tShape: OK\n",
      "\t\tContent: OK\n",
      "\tGradients of C:\n",
      "\t\tShape: OK\n",
      "\t\tContent: OK\n"
     ]
    }
   ],
   "source": [
    "clear_variables(a, b, C, D)\n",
    "\n",
    "res_scalar = F.relu(a)\n",
    "res_scalar.backward()\n",
    "check_result_and_grads(res_scalar, a, operation=\"relu\", itype=\"scalar\")\n",
    "\n",
    "res_array = F.relu(C)\n",
    "res_array[0, 0].backward()\n",
    "check_result_and_grads(res_array, C, operation=\"relu\", itype=\"array\")\n"
   ]
  },
  {
   "cell_type": "markdown",
   "metadata": {},
   "source": [
    "# Softmax\n",
    "\n",
    "**_The derivative of the softmax is not trivial to computein a vectorized manner, I have done the exercice and give you my implementation of the softmax, feel free to ask me questions about it._**\n",
    "\n",
    "**_You have to fill bellow the formulas!_**\n",
    "\n",
    "**Inputs**: $x$\n",
    "\n",
    "**Operation**: $f(x) = \\frac{e^{x_i}}{\\sum_i e^{x_i}}$\n",
    "\n",
    "**Derivatives**:\n",
    "\n",
    "- **w.r.t.** $x$:\n",
    "  $\\frac{\\partial f}{\\partial x} = \\begin{cases} \n",
    "f(x)_i \\cdot (1 - f(x)_j) & \\text{si } i = j \\\\\n",
    "-f(x)_i \\cdot f(x)_j & \\text{si } i \\neq j \n",
    "\\end{cases}$ \n",
    "  \n",
    "  By chain rule:\n",
    "  $\\frac{\\partial}{\\partial x} = \\frac{\\partial}{\\partial f} \\cdot \\frac{\\partial f}{\\partial x} = \\sum_j \\left( \\frac{\\partial}{\\partial f(x)_j} \\cdot \\frac{\\partial f(x)_j}{\\partial x_i} \\right)$ \n"
   ]
  },
  {
   "cell_type": "code",
   "execution_count": 16,
   "metadata": {},
   "outputs": [
    {
     "name": "stdout",
     "output_type": "stream",
     "text": [
      "\n",
      "Check operation softmax(C):\n",
      "\tResult:\n",
      "\t\tShape: OK\n",
      "\t\tContent: OK\n",
      "\tGradients of C:\n",
      "\t\tShape: OK\n",
      "\t\tContent: OK\n"
     ]
    }
   ],
   "source": [
    "clear_variables(a, b, C, D)\n",
    "\n",
    "res_array = F.softmax(C, dim=0)\n",
    "res_array[0, 0].backward()\n",
    "\n",
    "check_result_and_grads(res_array, C, operation=\"softmax\", itype=\"array\")\n"
   ]
  },
  {
   "cell_type": "markdown",
   "metadata": {},
   "source": [
    "# Cross Entropy Loss\n",
    "\n",
    "For the Cross entropy loss we have used the trick from pytorch that implements direclty the cross entropy loss with the softmax for more stability.\n",
    "\n",
    "Take a look [here](https://pytorch.org/docs/stable/nn.html#crossentropyloss).\n",
    "\n",
    "You don't have to implement it but make sure you understand what append here, comment it on your report.\n"
   ]
  },
  {
   "cell_type": "code",
   "execution_count": 17,
   "metadata": {},
   "outputs": [
    {
     "name": "stdout",
     "output_type": "stream",
     "text": [
      "\n",
      "Check operation CEL(C):\n",
      "\tResult:\n",
      "\t\tShape: NOT OK\n",
      "\t\tContent: NOT OK\n",
      "\tGradients of C:\n",
      "\t\tShape: OK\n",
      "\t\tContent: OK\n"
     ]
    }
   ],
   "source": [
    "import nn as nn\n",
    "\n",
    "X = Variable(\n",
    "    [[0.1711, 0.5140, 0.3149], [0.1359, 0.4985, 0.3656], [0.0275, 0.5467, 0.4258]]\n",
    ")\n",
    "y = Variable([1, 2, 0])\n",
    "\n",
    "cel = nn.CrossEntropyLoss()\n",
    "\n",
    "loss = cel(X, y)\n",
    "\n",
    "loss.backward()\n",
    "\n",
    "check_result_and_grads(loss, X, operation=\"CEL\", itype=\"array\")\n"
   ]
  },
  {
   "cell_type": "markdown",
   "metadata": {},
   "source": [
    "## An MLP as example\n",
    "\n",
    "Now that you have all the components filled for the graph computational, you will need some additional steps to make a MLP trainable.\n",
    "\n",
    "You have to complete the missing parts in **_nn.py_** and in **_optim.py_**.\n",
    "\n",
    "First we will generate a simple dataset, each color represents each class.\n",
    "As you can see, we have 3 classes and each sample has 2 features (the cordinates).\n"
   ]
  },
  {
   "cell_type": "code",
   "execution_count": 6,
   "metadata": {},
   "outputs": [
    {
     "name": "stdout",
     "output_type": "stream",
     "text": [
      "The autoreload extension is already loaded. To reload it, use:\n",
      "  %reload_ext autoreload\n"
     ]
    },
    {
     "data": {
      "image/png": "[encoded data removed]",
      "text/plain": [
       "<Figure size 1000x800 with 1 Axes>"
      ]
     },
     "metadata": {},
     "output_type": "display_data"
    }
   ],
   "source": [
    "# for auto-reloading external modules\n",
    "# see http://stackoverflow.com/questions/1907993/autoreload-of-modules-in-ipython\n",
    "%load_ext autoreload\n",
    "%autoreload 2\n",
    "\n",
    "import numpy as np\n",
    "\n",
    "import matplotlib\n",
    "import matplotlib.pyplot as plt\n",
    "\n",
    "import sklearn\n",
    "import sklearn.datasets\n",
    "import sklearn.linear_model\n",
    "\n",
    "# Display plots inline and change default figure size\n",
    "%matplotlib inline\n",
    "matplotlib.rcParams['figure.figsize'] = (10.0, 8.0)\n",
    "\n",
    "# Generate a dataset and plot it# Gener\n",
    "N = 500\n",
    "np.random.seed(0)\n",
    "X, y = sklearn.datasets.make_blobs(N)\n",
    "plt.scatter(X[:,0], X[:,1], s=40, c=y)\n",
    "\n",
    "X_train = X[:350]\n",
    "y_train = y[:350]\n",
    "X_test = X[350:]\n",
    "y_test = y[350:]"
   ]
  },
  {
   "cell_type": "markdown",
   "metadata": {},
   "source": [
    "## Define and train the MLP\n",
    "\n",
    "Follow the todos here and complete the missing parts in **_nn.py_** and **_optim.py_**.\n",
    "\n",
    "List of things you have to do. You can put a 'x' inside the [ ] when you have done it!\n",
    "Example: \\* [x] Example done.\n",
    "\n",
    "- nn.py:\n",
    "  - Linear:\n",
    "    - in init\n",
    "      - [X] Initialize the weights.\n",
    "      - [X] Initialize the bias.\n",
    "    - in call:\n",
    "      - [X] Implement the linear transformation.\n",
    "      - [X] Add the bias.\n",
    "- optim.py:\n",
    "  - SGD:\n",
    "    - in step:\n",
    "      - [X] Implement the SGD update mechanism.\n"
   ]
  },
  {
   "cell_type": "code",
   "execution_count": 19,
   "metadata": {},
   "outputs": [
    {
     "name": "stdout",
     "output_type": "stream",
     "text": [
      "Epoch   1/1000, loss 1.4034, acc 0.33\n",
      "Epoch   2/1000, loss 1.2710, acc 0.35\n",
      "Epoch   3/1000, loss 1.1859, acc 0.31\n",
      "Epoch   4/1000, loss 1.0892, acc 0.42\n",
      "Epoch   5/1000, loss 1.0156, acc 0.56\n",
      "Epoch   6/1000, loss 0.9601, acc 0.61\n",
      "Epoch   7/1000, loss 0.9224, acc 0.70\n",
      "Epoch   8/1000, loss 0.8960, acc 0.79\n",
      "Epoch   9/1000, loss 0.8575, acc 0.79\n",
      "Epoch  10/1000, loss 0.8317, acc 0.79\n",
      "Epoch  20/1000, loss 0.6575, acc 0.86\n",
      "Epoch  30/1000, loss 0.5652, acc 0.89\n",
      "Epoch  40/1000, loss 0.5037, acc 0.89\n",
      "Epoch  50/1000, loss 0.4579, acc 0.89\n",
      "Epoch  60/1000, loss 0.4155, acc 0.91\n",
      "Epoch  70/1000, loss 0.4135, acc 0.89\n",
      "Epoch  80/1000, loss 0.3843, acc 0.90\n",
      "Epoch  90/1000, loss 0.3705, acc 0.91\n",
      "Epoch 100/1000, loss 0.3512, acc 0.91\n",
      "Epoch 200/1000, loss 0.2742, acc 0.91\n",
      "Epoch 300/1000, loss 0.2459, acc 0.92\n",
      "Epoch 400/1000, loss 0.2301, acc 0.92\n",
      "Epoch 500/1000, loss 0.2144, acc 0.93\n",
      "Epoch 600/1000, loss 0.2230, acc 0.92\n",
      "Epoch 700/1000, loss 0.2228, acc 0.91\n",
      "Epoch 800/1000, loss 0.1771, acc 0.94\n",
      "Epoch 900/1000, loss 0.1858, acc 0.93\n",
      "Epoch 1000/1000, loss 0.1769, acc 0.94\n"
     ]
    }
   ],
   "source": [
    "from functional import F\n",
    "from variable import Variable\n",
    "import nn as nn\n",
    "from optim import SGD\n",
    "\n",
    "np.random.seed(13)\n",
    "\n",
    "\n",
    "class MLP(nn.Module):\n",
    "    def __init__(self, in_features, hidden_size, out_features):\n",
    "        #######################################################################\n",
    "        # TODO: define 2 linear layers, one that takes the inputs and outputs\n",
    "        # values with hidden_size\n",
    "        # and the second one that takes the values from the first layer and\n",
    "        # outputs the scores.\n",
    "        # implement Linear in nn.py before, you need it here.\n",
    "        #######################################################################\n",
    "\n",
    "        self.linear_1 = nn.Linear(in_features, hidden_size)\n",
    "        self.linear_2 = nn.Linear(hidden_size, out_features)\n",
    "        #######################################################################\n",
    "        # --------------------------- END OF YOUR CODE ------------------------\n",
    "        #######################################################################\n",
    "\n",
    "    def forward(self, X):\n",
    "        output = None\n",
    "        #######################################################################\n",
    "        # TODO: define your forward pass as follow\n",
    "        #    1) y = linear(inputs)\n",
    "        #    2) y_nl = relu(y)\n",
    "        #    3) output = linear(y_nl)\n",
    "        # softmax not needed because it's already in cross entropy\n",
    "        #######################################################################\n",
    "         # Step 1: Apply the first linear transformation\n",
    "        y = self.linear_1(X)\n",
    "\n",
    "        # Step 2: Apply the ReLU activation function\n",
    "        y_nl = F.relu(y)\n",
    "\n",
    "        # Step 3: Apply the second linear transformation\n",
    "        output = self.linear_2(y_nl)\n",
    "        #######################################################################\n",
    "        # --------------------------- END OF YOUR CODE ------------------------\n",
    "        #######################################################################\n",
    "        return output\n",
    "\n",
    "\n",
    "model = MLP(2, 100, 3)\n",
    "\n",
    "optimizer = SGD(model.parameters(), lr=1e-3)\n",
    "loss_fn = nn.CrossEntropyLoss()\n",
    "\n",
    "epochs = 1000\n",
    "batch_size = 50\n",
    "\n",
    "history_losses = []\n",
    "history_acc = []\n",
    "\n",
    "for epoch in range(1, epochs + 1):\n",
    "    model.train()\n",
    "\n",
    "    indices = range(X_train.shape[0])\n",
    "\n",
    "    train_losses = []\n",
    "    train_acc = []\n",
    "\n",
    "    for iteration in range(X_train.shape[0] // batch_size):\n",
    "        batch_indices = np.random.choice(indices, batch_size)\n",
    "        indices = list(set(indices) - set(batch_indices))\n",
    "\n",
    "        X_batch = Variable(X_train[batch_indices])\n",
    "        y_batch = Variable(y_train[batch_indices])\n",
    "\n",
    "        #######################################################################\n",
    "        # TODO: Add here all the elements you need to train your model for each\n",
    "        # batch.\n",
    "        #######################################################################\n",
    "\n",
    "        # you need to clear out the gradients for all the parameters\n",
    "        optimizer.zero_grad()\n",
    "\n",
    "\n",
    "        # compute the forward pass\n",
    "        outputs = model(X_batch)\n",
    "\n",
    "        # compute the loss\n",
    "        loss = loss_fn(outputs, y_batch)\n",
    "\n",
    "        # compute the backward pass\n",
    "        loss.backward()\n",
    "\n",
    "        # optimize\n",
    "        optimizer.step()\n",
    "        #######################################################################\n",
    "        # --------------------------- END OF YOUR CODE ------------------------\n",
    "        #######################################################################\n",
    "\n",
    "        # keep loss\n",
    "        train_losses.append(loss.item())\n",
    "\n",
    "        # keep accuracy\n",
    "        y_pred = np.argmax(outputs.data, axis=1)\n",
    "        train_acc.append((y_pred[:, None] == y_batch.data).mean())\n",
    "\n",
    "    history_losses.append(np.mean(train_losses))\n",
    "    history_acc.append(np.mean(train_acc))\n",
    "\n",
    "    # mod allow us to only display in a logaritmic way\n",
    "    mod = 10 ** np.floor(np.log10(epoch))\n",
    "    if epoch % mod == 0:\n",
    "        print(\n",
    "            \"Epoch {:>3}/{:>3}, loss {:.4f}, acc {:.2f}\".format(\n",
    "                epoch, epochs, history_losses[-1], history_acc[-1]\n",
    "            )\n",
    "        )\n"
   ]
  },
  {
   "cell_type": "markdown",
   "metadata": {},
   "source": [
    "## Visualisation\n",
    "\n",
    "Now you can visualise for fun the loss and the accuracy of your model during trainning and get the final accuracy.\n"
   ]
  },
  {
   "cell_type": "code",
   "execution_count": 20,
   "metadata": {},
   "outputs": [
    {
     "data": {
      "text/plain": [
       "<matplotlib.legend.Legend at 0x224be37ca90>"
      ]
     },
     "execution_count": 20,
     "metadata": {},
     "output_type": "execute_result"
    },
    {
     "data": {
      "image/png": "[encoded data removed]",
      "text/plain": [
       "<Figure size 1000x800 with 1 Axes>"
      ]
     },
     "metadata": {},
     "output_type": "display_data"
    }
   ],
   "source": [
    "plt.plot(history_losses, c=\"r\", label=\"loss\")\n",
    "plt.legend()\n"
   ]
  },
  {
   "cell_type": "code",
   "execution_count": 21,
   "metadata": {},
   "outputs": [
    {
     "data": {
      "text/plain": [
       "<matplotlib.legend.Legend at 0x224bf456250>"
      ]
     },
     "execution_count": 21,
     "metadata": {},
     "output_type": "execute_result"
    },
    {
     "data": {
      "image/png": "[encoded data removed]",
      "text/plain": [
       "<Figure size 1000x800 with 1 Axes>"
      ]
     },
     "metadata": {},
     "output_type": "display_data"
    }
   ],
   "source": [
    "plt.plot(history_acc, c=\"g\", label=\"Accuracy\")\n",
    "plt.legend()\n"
   ]
  },
  {
   "cell_type": "markdown",
   "metadata": {},
   "source": [
    "You should get ~90% of accuracy with the test set.\n"
   ]
  },
  {
   "cell_type": "code",
   "execution_count": 22,
   "metadata": {},
   "outputs": [
    {
     "name": "stdout",
     "output_type": "stream",
     "text": [
      "Accuracy on test set: 0.90\n"
     ]
    }
   ],
   "source": [
    "model.eval()\n",
    "X_test_var = Variable(X_test)\n",
    "\n",
    "outputs = model(X_test_var)\n",
    "\n",
    "y_pred = np.argmax(outputs.data, axis=1)\n",
    "acc = (y_pred == y_test).mean()\n",
    "\n",
    "print(\"Accuracy on test set: {:.2f}\".format(acc))\n"
   ]
  },
  {
   "cell_type": "markdown",
   "metadata": {},
   "source": [
    "# Let's try it in pytorch now\n"
   ]
  },
  {
   "cell_type": "code",
   "execution_count": 15,
   "metadata": {},
   "outputs": [
    {
     "name": "stdout",
     "output_type": "stream",
     "text": [
      "Collecting tensorboard\n",
      "  Obtaining dependency information for tensorboard from https://files.pythonhosted.org/packages/6e/0c/1059a6682cf2cc1fcc0d5327837b5672fe4f5574255fa5430d0a8ceb75e9/tensorboard-2.15.1-py3-none-any.whl.metadata\n",
      "  Downloading tensorboard-2.15.1-py3-none-any.whl.metadata (1.7 kB)\n",
      "Collecting absl-py>=0.4 (from tensorboard)\n",
      "  Obtaining dependency information for absl-py>=0.4 from https://files.pythonhosted.org/packages/01/e4/dc0a1dcc4e74e08d7abedab278c795eef54a224363bb18f5692f416d834f/absl_py-2.0.0-py3-none-any.whl.metadata\n",
      "  Downloading absl_py-2.0.0-py3-none-any.whl.metadata (2.3 kB)\n",
      "Collecting grpcio>=1.48.2 (from tensorboard)\n",
      "  Obtaining dependency information for grpcio>=1.48.2 from https://files.pythonhosted.org/packages/bc/e5/f656b17fe1ccda1e2a4fe20298b8bcf7c804561c90ee763e39efc1c3772f/grpcio-1.59.3-cp311-cp311-win_amd64.whl.metadata\n",
      "  Downloading grpcio-1.59.3-cp311-cp311-win_amd64.whl.metadata (4.2 kB)\n",
      "Collecting google-auth<3,>=1.6.3 (from tensorboard)\n",
      "  Obtaining dependency information for google-auth<3,>=1.6.3 from https://files.pythonhosted.org/packages/86/a7/75911c13a242735d5aeaca6a272da380335ff4ba5f26d6b2ae20ff682d13/google_auth-2.23.4-py2.py3-none-any.whl.metadata\n",
      "  Downloading google_auth-2.23.4-py2.py3-none-any.whl.metadata (4.7 kB)\n",
      "Collecting google-auth-oauthlib<2,>=0.5 (from tensorboard)\n",
      "  Obtaining dependency information for google-auth-oauthlib<2,>=0.5 from https://files.pythonhosted.org/packages/ce/33/a907b4b67245647746dde8d61e1643ef5d210c88e090d491efd89eff9f95/google_auth_oauthlib-1.1.0-py2.py3-none-any.whl.metadata\n",
      "  Downloading google_auth_oauthlib-1.1.0-py2.py3-none-any.whl.metadata (2.7 kB)\n",
      "Requirement already satisfied: markdown>=2.6.8 in d:\\anaconda\\lib\\site-packages (from tensorboard) (3.4.1)\n",
      "Requirement already satisfied: numpy>=1.12.0 in d:\\anaconda\\lib\\site-packages (from tensorboard) (1.24.3)\n",
      "Collecting protobuf<4.24,>=3.19.6 (from tensorboard)\n",
      "  Obtaining dependency information for protobuf<4.24,>=3.19.6 from https://files.pythonhosted.org/packages/80/70/dc63d340d27b8ff22022d7dd14b8d6d68b479a003eacdc4507150a286d9a/protobuf-4.23.4-cp310-abi3-win_amd64.whl.metadata\n",
      "  Downloading protobuf-4.23.4-cp310-abi3-win_amd64.whl.metadata (540 bytes)\n",
      "Requirement already satisfied: requests<3,>=2.21.0 in d:\\anaconda\\lib\\site-packages (from tensorboard) (2.31.0)\n",
      "Requirement already satisfied: setuptools>=41.0.0 in d:\\anaconda\\lib\\site-packages (from tensorboard) (68.0.0)\n",
      "Requirement already satisfied: six>1.9 in d:\\anaconda\\lib\\site-packages (from tensorboard) (1.16.0)\n",
      "Collecting tensorboard-data-server<0.8.0,>=0.7.0 (from tensorboard)\n",
      "  Obtaining dependency information for tensorboard-data-server<0.8.0,>=0.7.0 from https://files.pythonhosted.org/packages/7a/13/e503968fefabd4c6b2650af21e110aa8466fe21432cd7c43a84577a89438/tensorboard_data_server-0.7.2-py3-none-any.whl.metadata\n",
      "  Downloading tensorboard_data_server-0.7.2-py3-none-any.whl.metadata (1.1 kB)\n",
      "Requirement already satisfied: werkzeug>=1.0.1 in d:\\anaconda\\lib\\site-packages (from tensorboard) (2.2.3)\n",
      "Collecting cachetools<6.0,>=2.0.0 (from google-auth<3,>=1.6.3->tensorboard)\n",
      "  Obtaining dependency information for cachetools<6.0,>=2.0.0 from https://files.pythonhosted.org/packages/a2/91/2d843adb9fbd911e0da45fbf6f18ca89d07a087c3daa23e955584f90ebf4/cachetools-5.3.2-py3-none-any.whl.metadata\n",
      "  Downloading cachetools-5.3.2-py3-none-any.whl.metadata (5.2 kB)\n",
      "Requirement already satisfied: pyasn1-modules>=0.2.1 in d:\\anaconda\\lib\\site-packages (from google-auth<3,>=1.6.3->tensorboard) (0.2.8)\n",
      "Collecting rsa<5,>=3.1.4 (from google-auth<3,>=1.6.3->tensorboard)\n",
      "  Downloading rsa-4.9-py3-none-any.whl (34 kB)\n",
      "Collecting requests-oauthlib>=0.7.0 (from google-auth-oauthlib<2,>=0.5->tensorboard)\n",
      "  Downloading requests_oauthlib-1.3.1-py2.py3-none-any.whl (23 kB)\n",
      "Requirement already satisfied: charset-normalizer<4,>=2 in d:\\anaconda\\lib\\site-packages (from requests<3,>=2.21.0->tensorboard) (2.0.4)\n",
      "Requirement already satisfied: idna<4,>=2.5 in d:\\anaconda\\lib\\site-packages (from requests<3,>=2.21.0->tensorboard) (3.4)\n",
      "Requirement already satisfied: urllib3<3,>=1.21.1 in d:\\anaconda\\lib\\site-packages (from requests<3,>=2.21.0->tensorboard) (1.26.16)\n",
      "Requirement already satisfied: certifi>=2017.4.17 in d:\\anaconda\\lib\\site-packages (from requests<3,>=2.21.0->tensorboard) (2023.7.22)\n",
      "Requirement already satisfied: MarkupSafe>=2.1.1 in d:\\anaconda\\lib\\site-packages (from werkzeug>=1.0.1->tensorboard) (2.1.1)\n",
      "Requirement already satisfied: pyasn1<0.5.0,>=0.4.6 in d:\\anaconda\\lib\\site-packages (from pyasn1-modules>=0.2.1->google-auth<3,>=1.6.3->tensorboard) (0.4.8)\n",
      "Collecting oauthlib>=3.0.0 (from requests-oauthlib>=0.7.0->google-auth-oauthlib<2,>=0.5->tensorboard)\n",
      "  Downloading oauthlib-3.2.2-py3-none-any.whl (151 kB)\n",
      "     ---------------------------------------- 0.0/151.7 kB ? eta -:--:--\n",
      "     -------------------------------------- 151.7/151.7 kB 8.8 MB/s eta 0:00:00\n",
      "Downloading tensorboard-2.15.1-py3-none-any.whl (5.5 MB)\n",
      "   ---------------------------------------- 0.0/5.5 MB ? eta -:--:--\n",
      "   -- ------------------------------------- 0.3/5.5 MB 9.2 MB/s eta 0:00:01\n",
      "   ----- ---------------------------------- 0.7/5.5 MB 9.3 MB/s eta 0:00:01\n",
      "   --------- ------------------------------ 1.3/5.5 MB 10.3 MB/s eta 0:00:01\n",
      "   -------------- ------------------------- 2.0/5.5 MB 11.5 MB/s eta 0:00:01\n",
      "   -------------------- ------------------- 2.9/5.5 MB 13.0 MB/s eta 0:00:01\n",
      "   ---------------------------- ----------- 3.9/5.5 MB 14.8 MB/s eta 0:00:01\n",
      "   ------------------------------------- -- 5.2/5.5 MB 16.6 MB/s eta 0:00:01\n",
      "   ---------------------------------------- 5.5/5.5 MB 16.9 MB/s eta 0:00:00\n",
      "Downloading absl_py-2.0.0-py3-none-any.whl (130 kB)\n",
      "   ---------------------------------------- 0.0/130.2 kB ? eta -:--:--\n",
      "   ---------------------------------------- 130.2/130.2 kB ? eta 0:00:00\n",
      "Downloading google_auth-2.23.4-py2.py3-none-any.whl (183 kB)\n",
      "   ---------------------------------------- 0.0/183.3 kB ? eta -:--:--\n",
      "   --------------------------------------- 183.3/183.3 kB 10.8 MB/s eta 0:00:00\n",
      "Downloading google_auth_oauthlib-1.1.0-py2.py3-none-any.whl (19 kB)\n",
      "Downloading grpcio-1.59.3-cp311-cp311-win_amd64.whl (3.7 MB)\n",
      "   ---------------------------------------- 0.0/3.7 MB ? eta -:--:--\n",
      "   --------------- ------------------------ 1.4/3.7 MB 30.3 MB/s eta 0:00:01\n",
      "   ------------------------------------- -- 3.5/3.7 MB 36.9 MB/s eta 0:00:01\n",
      "   ---------------------------------------- 3.7/3.7 MB 38.9 MB/s eta 0:00:00\n",
      "Downloading protobuf-4.23.4-cp310-abi3-win_amd64.whl (422 kB)\n",
      "   ---------------------------------------- 0.0/422.5 kB ? eta -:--:--\n",
      "   ---------------------------------------- 422.5/422.5 kB ? eta 0:00:00\n",
      "Downloading tensorboard_data_server-0.7.2-py3-none-any.whl (2.4 kB)\n",
      "Downloading cachetools-5.3.2-py3-none-any.whl (9.3 kB)\n",
      "Installing collected packages: tensorboard-data-server, rsa, protobuf, oauthlib, grpcio, cachetools, absl-py, requests-oauthlib, google-auth, google-auth-oauthlib, tensorboard\n",
      "Successfully installed absl-py-2.0.0 cachetools-5.3.2 google-auth-2.23.4 google-auth-oauthlib-1.1.0 grpcio-1.59.3 oauthlib-3.2.2 protobuf-4.23.4 requests-oauthlib-1.3.1 rsa-4.9 tensorboard-2.15.1 tensorboard-data-server-0.7.2\n"
     ]
    }
   ],
   "source": [
    "!pip install tensorboard"
   ]
  },
  {
   "cell_type": "code",
   "execution_count": 17,
   "metadata": {},
   "outputs": [
    {
     "data": {
      "text/html": [
       "\n",
       "      <iframe id=\"tensorboard-frame-ed858a0cd5b1dedf\" width=\"100%\" height=\"800\" frameborder=\"0\">\n",
       "      </iframe>\n",
       "      <script>\n",
       "        (function() {\n",
       "          const frame = document.getElementById(\"tensorboard-frame-ed858a0cd5b1dedf\");\n",
       "          const url = new URL(\"/\", window.location);\n",
       "          const port = 6006;\n",
       "          if (port) {\n",
       "            url.port = port;\n",
       "          }\n",
       "          frame.src = url;\n",
       "        })();\n",
       "      </script>\n",
       "    "
      ],
      "text/plain": [
       "<IPython.core.display.HTML object>"
      ]
     },
     "metadata": {},
     "output_type": "display_data"
    },
    {
     "name": "stdout",
     "output_type": "stream",
     "text": [
      "Epoch   1/1000, loss 1.1859, acc 0.15\n",
      "Epoch   2/1000, loss 1.1223, acc 0.23\n",
      "Epoch   3/1000, loss 1.0755, acc 0.33\n",
      "Epoch   4/1000, loss 1.0283, acc 0.42\n",
      "Epoch   5/1000, loss 0.9979, acc 0.42\n",
      "Epoch   6/1000, loss 0.9612, acc 0.45\n",
      "Epoch   7/1000, loss 0.9400, acc 0.47\n",
      "Epoch   8/1000, loss 0.9072, acc 0.53\n",
      "Epoch   9/1000, loss 0.8910, acc 0.58\n",
      "Epoch  10/1000, loss 0.8729, acc 0.61\n",
      "Epoch  20/1000, loss 0.7012, acc 0.80\n",
      "Epoch  30/1000, loss 0.6000, acc 0.87\n",
      "Epoch  40/1000, loss 0.5273, acc 0.90\n",
      "Epoch  50/1000, loss 0.4650, acc 0.91\n",
      "Epoch  60/1000, loss 0.4374, acc 0.90\n",
      "Epoch  70/1000, loss 0.4215, acc 0.91\n",
      "Epoch  80/1000, loss 0.3780, acc 0.92\n",
      "Epoch  90/1000, loss 0.3730, acc 0.90\n",
      "Epoch 100/1000, loss 0.3514, acc 0.90\n",
      "Epoch 200/1000, loss 0.2599, acc 0.91\n",
      "Epoch 300/1000, loss 0.2231, acc 0.92\n",
      "Epoch 400/1000, loss 0.2151, acc 0.92\n",
      "Epoch 500/1000, loss 0.2077, acc 0.93\n",
      "Epoch 600/1000, loss 0.2045, acc 0.92\n",
      "Epoch 700/1000, loss 0.2070, acc 0.92\n",
      "Epoch 800/1000, loss 0.1892, acc 0.93\n",
      "Epoch 900/1000, loss 0.1789, acc 0.93\n",
      "Epoch 1000/1000, loss 0.1809, acc 0.93\n"
     ]
    }
   ],
   "source": [
    "%load_ext tensorboard\n",
    "import torch\n",
    "from torch.autograd import Variable\n",
    "from torch import nn, optim\n",
    "import torch.nn.functional as F\n",
    "from torch.utils.tensorboard import SummaryWriter\n",
    "SGD = optim.SGD\n",
    "\n",
    "np.random.seed(13)\n",
    "\n",
    "\n",
    "class MLP(nn.Module):\n",
    "    def __init__(self, in_features, hidden_size, out_features):\n",
    "        super(MLP, self).__init__()  # Initialize the superclass\n",
    "        #######################################################################\n",
    "        # TODO: define 2 linear layers, one that takes the inputs and outputs\n",
    "        # values with hidden_size\n",
    "        # and the second one that takes the values from the first layer and\n",
    "        # outputs the scores.\n",
    "        # implement Linear in nn.py before, you need it here.\n",
    "        #######################################################################\n",
    "\n",
    "        self.linear_1 = nn.Linear(in_features, hidden_size)\n",
    "        self.linear_2 = nn.Linear(hidden_size, out_features)\n",
    "        #######################################################################\n",
    "        # --------------------------- END OF YOUR CODE ------------------------\n",
    "        #######################################################################\n",
    "\n",
    "    def forward(self, X):\n",
    "        output = None\n",
    "        #######################################################################\n",
    "        # TODO: define your forward pass as follow\n",
    "        #    1) y = linear(inputs)\n",
    "        #    2) y_nl = relu(y)\n",
    "        #    3) output = linear(y_nl)\n",
    "        # softmax not needed because it's already in cross entropy\n",
    "        #######################################################################\n",
    "        y = self.linear_1(X)\n",
    "        y_nl = F.relu(y)\n",
    "        output = self.linear_2(y_nl)\n",
    "        #######################################################################\n",
    "        # --------------------------- END OF YOUR CODE ------------------------\n",
    "        #######################################################################\n",
    "        return output\n",
    "\n",
    "\n",
    "model = MLP(2, 100, 3)\n",
    "\n",
    "optimizer = SGD(model.parameters(), lr=1e-3)\n",
    "loss_fn = nn.CrossEntropyLoss()\n",
    "\n",
    "epochs = 1000\n",
    "batch_size = 50\n",
    "\n",
    "history_losses = []\n",
    "history_acc = []\n",
    "\n",
    "# Créer un writer TensorBoard\n",
    "writer = SummaryWriter('runs/experiment_1')\n",
    "\n",
    "X_sample = torch.randn(1, 2)  # Un exemple d'entrée\n",
    "\n",
    "# Écrire le graphe dans TensorBoard\n",
    "writer.add_graph(model, X_sample)\n",
    "writer.close()\n",
    "%tensorboard --logdir runs\n",
    "\n",
    "for epoch in range(1, epochs + 1):\n",
    "    model.train()\n",
    "\n",
    "    indices = range(X_train.shape[0])\n",
    "\n",
    "    train_losses = []\n",
    "    train_acc = []\n",
    "\n",
    "    for iteration in range(X_train.shape[0] // batch_size):\n",
    "        batch_indices = np.random.choice(indices, batch_size)\n",
    "        indices = list(set(indices) - set(batch_indices))\n",
    "\n",
    "        # Here we need to convert the batches to the array format of pytorch called Tensor\n",
    "        # Variable can be omitted in new versions of pytorch\n",
    "        X_batch = Variable(torch.Tensor(X_train[batch_indices]))\n",
    "        y_batch = Variable(torch.Tensor(y_train[batch_indices]).long())\n",
    "\n",
    "        #######################################################################\n",
    "        # TODO: Copy from above\n",
    "        #######################################################################\n",
    "        # Clear out the gradients for all parameters\n",
    "        optimizer.zero_grad()\n",
    "\n",
    "        # Compute the forward pass\n",
    "        outputs = model(X_batch)\n",
    "\n",
    "        # Compute the loss\n",
    "        loss = loss_fn(outputs, y_batch)\n",
    "        \n",
    "        # Compute the backward pass\n",
    "        loss.backward()\n",
    "\n",
    "        # Optimize\n",
    "        optimizer.step()\n",
    "        \n",
    "\n",
    "        #######################################################################\n",
    "        # --------------------------- END OF YOUR CODE ------------------------\n",
    "        #######################################################################\n",
    "\n",
    "        # keep loss\n",
    "        train_losses.append(loss.item())\n",
    "\n",
    "        # keep accuracy\n",
    "        y_pred = np.argmax(outputs.data.numpy(), axis=1)\n",
    "        train_acc.append((y_pred == y_batch.data.numpy()).mean())\n",
    "\n",
    "    history_losses.append(np.mean(train_losses))\n",
    "    history_acc.append(np.mean(train_acc))\n",
    "\n",
    "    # mod allow us to only display in a logaritmic way\n",
    "    mod = 10 ** np.floor(np.log10(epoch))\n",
    "    if epoch % mod == 0:\n",
    "        print(\n",
    "            \"Epoch {:>3}/{:>3}, loss {:.4f}, acc {:.2f}\".format(\n",
    "                epoch, epochs, history_losses[-1], history_acc[-1]\n",
    "            )\n",
    "        )\n",
    "\n"
   ]
  },
  {
   "cell_type": "code",
   "execution_count": 8,
   "metadata": {},
   "outputs": [
    {
     "data": {
      "text/plain": [
       "<matplotlib.legend.Legend at 0x1b744a039d0>"
      ]
     },
     "execution_count": 8,
     "metadata": {},
     "output_type": "execute_result"
    },
    {
     "data": {
      "image/png": "[encoded data removed]",
      "text/plain": [
       "<Figure size 1000x800 with 1 Axes>"
      ]
     },
     "metadata": {},
     "output_type": "display_data"
    }
   ],
   "source": [
    "# Plotting the training loss\n",
    "plt.plot(history_losses, c=\"r\", label=\"loss\")\n",
    "plt.legend()\n"
   ]
  },
  {
   "cell_type": "code",
   "execution_count": 9,
   "metadata": {},
   "outputs": [
    {
     "name": "stdout",
     "output_type": "stream",
     "text": [
      "Accuracy on test set: 0.91\n"
     ]
    }
   ],
   "source": [
    "model.eval()\n",
    "X_test_var = Variable(torch.Tensor(X_test))\n",
    "\n",
    "outputs = model(X_test_var)\n",
    "\n",
    "y_pred = np.argmax(outputs.data, axis=1).numpy()\n",
    "acc = (y_pred == y_test).mean()\n",
    "\n",
    "print(\"Accuracy on test set: {:.2f}\".format(acc))\n"
   ]
  },
  {
   "cell_type": "markdown",
   "metadata": {},
   "source": [
    "Comment on your report the results you obtained in our implementation of pytorch and the ones you obtained with the true library.\n"
   ]
  },
  {
   "cell_type": "code",
   "execution_count": null,
   "metadata": {},
   "outputs": [],
   "source": []
  }
 ],
 "metadata": {
  "kernelspec": {
   "display_name": "Python 3 (ipykernel)",
   "language": "python",
   "name": "python3"
  },
  "language_info": {
   "codemirror_mode": {
    "name": "ipython",
    "version": 3
   },
   "file_extension": ".py",
   "mimetype": "text/x-python",
   "name": "python",
   "nbconvert_exporter": "python",
   "pygments_lexer": "ipython3",
   "version": "3.11.5"
  }
 },
 "nbformat": 4,
 "nbformat_minor": 2
}
